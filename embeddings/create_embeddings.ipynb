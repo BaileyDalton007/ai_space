{
 "cells": [
  {
   "cell_type": "code",
   "execution_count": 2,
   "id": "c763e6d8",
   "metadata": {},
   "outputs": [],
   "source": [
    "import json\n",
    "import openai\n",
    "import tiktoken\n",
    "import pandas as pd\n",
    "import numpy as np\n",
    "from ast import literal_eval\n",
    "\n",
    "cfg = json.load(open('api_config.json'))\n",
    "openai.api_key = cfg['KEY']"
   ]
  },
  {
   "cell_type": "code",
   "execution_count": 12,
   "id": "6a618d92",
   "metadata": {},
   "outputs": [],
   "source": [
    "encoding = tiktoken.encoding_for_model(\"gpt-3.5-turbo\")\n",
    "MAX_TOKEN_LENGTH = 8000\n",
    "\n",
    "def get_embedding(text, model=\"text-embedding-ada-002\"):\n",
    "    text = text.replace(\"\\n\", \" \")\n",
    "    \n",
    "    # Cuts texts down to maximum token length\n",
    "    tokens = encoding.encode(text)\n",
    "    if len(tokens) > MAX_TOKEN_LENGTH:\n",
    "        text = encoding.decode(tokens[:MAX_TOKEN_LENGTH])\n",
    "    \n",
    "    return openai.Embedding.create(input = [text], model=model)['data'][0]['embedding']\n",
    "\n",
    "# Possibly give random sampling of titles to get context before classifying?\n",
    "def get_cluster_label(prompt, model=\"gpt-3.5-turbo\", role=\"system\"):\n",
    "    response = openai.ChatCompletion.create(\n",
    "        model=\"gpt-3.5-turbo\",\n",
    "        messages=[\n",
    "            {\"role\": role, \"content\": prompt},\n",
    "        ],\n",
    "        temperature=0.5\n",
    "    )\n",
    "    \n",
    "    return response"
   ]
  },
  {
   "cell_type": "code",
   "execution_count": 26,
   "id": "81bfb627",
   "metadata": {},
   "outputs": [
    {
     "data": {
      "text/plain": [
       "<OpenAIObject chat.completion id=chatcmpl-83QkxbhBOvhIjGF6IU61OGyH581S4 at 0x2062b706250> JSON: {\n",
       "  \"id\": \"chatcmpl-83QkxbhBOvhIjGF6IU61OGyH581S4\",\n",
       "  \"object\": \"chat.completion\",\n",
       "  \"created\": 1695828527,\n",
       "  \"model\": \"gpt-3.5-turbo-0613\",\n",
       "  \"choices\": [\n",
       "    {\n",
       "      \"index\": 0,\n",
       "      \"message\": {\n",
       "        \"role\": \"assistant\",\n",
       "        \"content\": \"description: These articles cover a wide range of topics related to the application of artificial intelligence in various domains. They discuss AI's role in fulfilling people's fetishes, gender classification disparities, poker playing bots, export restrictions on AI chips, unreleased technologies by Facebook and Google, the race to deploy killer robots, AI quadcopters beating human champions, shortcomings in Air Force testing of AI technologies, identifying AI-generated images, the ethics of using AI in warfare, AI gun detection for mass shooting prevention, AI for ocean exploration, prisoners training AI, a small AI stock receiving new orders, military AI systems in Israel, the boundary between memory and generative AI, a portable navigation platform, human victory over AI in Go, AI copyright rejection for art, AI for knee osteoarthritis detection, the impact of AI artists on jobs, Microsoft's AI-powered smart backpack patent, and the potential need for basic income as AI and robotics advance.\\nlabel: AI in Various Domains\"\n",
       "      },\n",
       "      \"finish_reason\": \"stop\"\n",
       "    }\n",
       "  ],\n",
       "  \"usage\": {\n",
       "    \"prompt_tokens\": 462,\n",
       "    \"completion_tokens\": 196,\n",
       "    \"total_tokens\": 658\n",
       "  }\n",
       "}"
      ]
     },
     "execution_count": 26,
     "metadata": {},
     "output_type": "execute_result"
    }
   ],
   "source": [
    "get_cluster_label('''I am going to give you a list of titles of similar articles about artificial intelligence.\n",
    "All of these will be discussing different aspects of AI, so get as specific as possible.\n",
    "I would like you to provide a short description of the group of articles and a few word label for the group.\n",
    "This label should refer to the domain where AI is being applied in the articles. Some examples are:\n",
    "\"AI in Law\", \"Facial Recognition\", \"Quantum Computing\", \"AI applied to Science\" or \"AI in Culture and Art\".\n",
    "Format your response like this:\n",
    "\n",
    "description: <short description>\n",
    "label: <one word label>\n",
    "\n",
    "here is the list of article titles: \n",
    "['This AI girlfriend startup is making $100k a month fulfilling people’s fetishes', 'Gender Shades: Intersectional Accuracy Disparities in Commercial Gender Classification', 'Reddit Poker Bot', 'US curbs AI chip exports from Nvidia and AMD to some Middle East countries', 'The Technology Facebook and Google Didn’t Dare Release', 'In U.S.-China AI contest, the race is on to deploy killer robots', 'An AI quadcopter has beaten human champions at drone racing', 'Study finds major shortcomings in Air Force processes to test AI technologies', 'Identifying AI-generated images with SynthID', 'Inside the messy ethics of making war with machines', \"New Jersey's Ocean City taps AI gun detection in hopes of thwarting mass shootings\", 'Unlocking the power of AI for ocean exploration', 'These Prisoners Are Training AI', '1 Small AI Stock Just Landed New Orders Worth Over $100 Million', \"Israel's new military AI systems select targets and plan missions 'in minutes'\", 'Where Memory Ends and Generative AI Begins', 'PANS: A Portable Navigation Platform', 'Man beats machine at Go in human victory over AI', 'US rejects AI copyright for famous state fair-winning Midjourney art', 'Artificial Intelligence Flags Knee Osteoarthritis Using Medical Images', 'Will DALL-E the AI Artist Take My Job?', 'Microsoft files new AI-powered smart backpack patent. It can hear you and see what you see', 'As artificial intelligence and robotics advance, a basic income may be the only viable solution']''')"
   ]
  },
  {
   "cell_type": "code",
   "execution_count": 36,
   "id": "77b9c42b",
   "metadata": {},
   "outputs": [],
   "source": [
    "df = pd.read_csv('../data/text_data.csv', sep='\\t')\n",
    "\n",
    "# Drops all empty text rows\n",
    "df = df[df['title'] != ' '].reset_index(drop=True)"
   ]
  },
  {
   "cell_type": "code",
   "execution_count": 3,
   "id": "b38b1407",
   "metadata": {},
   "outputs": [],
   "source": [
    "df = pd.read_csv('embed_data.csv', sep='\\t')"
   ]
  },
  {
   "cell_type": "code",
   "execution_count": 30,
   "id": "81a2ee67",
   "metadata": {},
   "outputs": [],
   "source": [
    "# Generate title embeddings\n",
    "df['title_embedding'] = df['title'].apply(lambda x: get_embedding(x, model='text-embedding-ada-002'))\n",
    "df.to_csv('embed_data.csv', sep='\\t', index=False)"
   ]
  },
  {
   "cell_type": "code",
   "execution_count": 53,
   "id": "40a73eca",
   "metadata": {},
   "outputs": [],
   "source": [
    "# Generate text embeddings\n",
    "df['text_embedding'] = df['text'].apply(lambda x: get_embedding(x, model='text-embedding-ada-002'))\n",
    "df.to_csv('embed_data.csv', sep='\\t', index=False)"
   ]
  },
  {
   "cell_type": "code",
   "execution_count": 4,
   "id": "f13cbeab",
   "metadata": {},
   "outputs": [],
   "source": [
    "\"\"\"\n",
    "K-Means Clustering\n",
    "\"\"\"\n",
    "matrix = np.vstack(df['text_embedding'].apply(literal_eval).to_list())\n",
    "\n",
    "from sklearn.cluster import KMeans\n",
    "\n",
    "n_clusters = int(len(df['title']) / 10)\n",
    "\n",
    "kmeans = KMeans(n_clusters=n_clusters, init=\"k-means++\", random_state=42)\n",
    "kmeans.fit(matrix)\n",
    "labels = kmeans.labels_\n",
    "df[\"cluster\"] = labels"
   ]
  },
  {
   "cell_type": "code",
   "execution_count": 57,
   "id": "aa23d939",
   "metadata": {},
   "outputs": [],
   "source": [
    "\"\"\"\n",
    "Labels each cluster with a overall topic.\n",
    "\"\"\"\n",
    "\n",
    "PROMPT_TEMPLATE = f'''I am going to give you a list of titles of similar articles about artificial intelligence.\n",
    "All of these will be discussing different aspects of AI, so get as specific as possible.\n",
    "I would like you to provide a short description of the group of articles and a few word label for the group.\n",
    "This label should refer to the domain where AI is being applied in the articles. Some examples are:\n",
    "\"AI in Law\", \"Facial Recognition\", \"Quantum Computing\", or \"AI in Culture and Art. \n",
    "\n",
    "Format your response like this:\n",
    "\n",
    "description: <short description>\n",
    "label: <one word label>\n",
    "\n",
    "here is the list of article titles: \n",
    "'''\n",
    "\n",
    "TITLE_LEN_LIMIT = 100\n",
    "\n",
    "prompts = []\n",
    "\n",
    "for cluster_ind in df['cluster'].unique():\n",
    "    # Gets the subframe of a specific cluster.\n",
    "    c_df = df[df['cluster'] == cluster_ind]\n",
    "    \n",
    "    titles = []\n",
    "    for t in list(c_df['title']):\n",
    "        if len(t) < TITLE_LEN_LIMIT:\n",
    "            titles.append(t)\n",
    "        \n",
    "    \n",
    "    prompts.append(PROMPT_TEMPLATE + str(titles))"
   ]
  },
  {
   "cell_type": "code",
   "execution_count": 58,
   "id": "56a704f4",
   "metadata": {},
   "outputs": [],
   "source": [
    "\"\"\"\n",
    "Query GPT for cluster labels based on titles.\n",
    "\"\"\"\n",
    "responses = []\n",
    "for prompt in prompts:\n",
    "    responses.append(get_cluster_label(prompt))"
   ]
  },
  {
   "cell_type": "code",
   "execution_count": 62,
   "id": "5de7b154",
   "metadata": {},
   "outputs": [],
   "source": [
    "\"\"\"\n",
    "Create a dictionary for cluster information.\n",
    "\"\"\"\n",
    "\n",
    "# ChatGPT generated function.\n",
    "def get_substring_between_strings(input_string, start_string, end_string):\n",
    "    start_index = input_string.find(start_string)\n",
    "    if start_index == -1:\n",
    "        return None  # Start string not found in the input string\n",
    "\n",
    "    end_index = input_string.find(end_string, start_index + len(start_string))\n",
    "    if end_index == -1:\n",
    "        return None  # End string not found in the input string\n",
    "\n",
    "    substring = input_string[start_index + len(start_string):end_index]\n",
    "    return substring\n",
    "\n",
    "cluster_labels = dict()\n",
    "\n",
    "for r, cluster_ind in zip(responses, df['cluster'].unique()):\n",
    "    response = r.choices[0].message.content\n",
    "    \n",
    "    description = get_substring_between_strings(response, 'description: ', 'label: ').replace(\"\\n\", \"\")\n",
    "    label = response.split('label: ')[1].replace(\"\\n\", \"\")\n",
    "    \n",
    "    cluster_labels[int(cluster_ind)] = {'label': label, 'desc': description}\n",
    "    \n",
    "with open('cluster_labels.json', 'w') as f:\n",
    "    json.dump(cluster_labels, f)"
   ]
  },
  {
   "cell_type": "code",
   "execution_count": 29,
   "id": "13ab9a4f",
   "metadata": {},
   "outputs": [],
   "source": [
    "\"\"\"\n",
    "Adds cluster data to the dataframe.\n",
    "\"\"\"\n",
    "\n",
    "cluster_labels = dict()\n",
    "with open ('cluster_labels.json', 'r') as f:\n",
    "    cluster_labels = json.load(f)\n",
    "\n",
    "df['cluster_info'] = df['cluster'].astype(str).map(cluster_labels)\n",
    "df['cluster_label'] = df['cluster_info'].apply(lambda x: x['label'])\n",
    "df['cluster_desc'] = df['cluster_info'].apply(lambda x: x['desc'])\n",
    "\n",
    "df.to_csv('cluster_data.csv', sep='\\t', index=False)\n"
   ]
  },
  {
   "cell_type": "code",
   "execution_count": null,
   "id": "131afa31",
   "metadata": {},
   "outputs": [],
   "source": []
  }
 ],
 "metadata": {
  "kernelspec": {
   "display_name": "ai_space",
   "language": "python",
   "name": "ai_space"
  },
  "language_info": {
   "codemirror_mode": {
    "name": "ipython",
    "version": 3
   },
   "file_extension": ".py",
   "mimetype": "text/x-python",
   "name": "python",
   "nbconvert_exporter": "python",
   "pygments_lexer": "ipython3",
   "version": "3.10.13"
  }
 },
 "nbformat": 4,
 "nbformat_minor": 5
}
