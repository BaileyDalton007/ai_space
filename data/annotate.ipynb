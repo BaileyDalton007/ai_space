{
 "cells": [
  {
   "cell_type": "markdown",
   "metadata": {},
   "source": [
    "# Notebook to go through articles and annotate"
   ]
  },
  {
   "cell_type": "code",
   "execution_count": 19,
   "metadata": {},
   "outputs": [],
   "source": [
    "import pandas as pd"
   ]
  },
  {
   "cell_type": "code",
   "execution_count": 3,
   "metadata": {},
   "outputs": [],
   "source": [
    "df = pd.read_csv('cluster_data.csv', sep='\\t')"
   ]
  },
  {
   "cell_type": "code",
   "execution_count": 66,
   "metadata": {},
   "outputs": [],
   "source": [
    "ind = df[df['title'] == \"AI goes to church in South Korea, sparks controversy\"].index\n",
    "df.loc[ind, 'comments'] = '''What can be considered sacred seems to be a very personal question\n",
    "I am guess some sort of split is coming, those who believe AI belongs in worship and those who don't\n",
    "I would compare it to the use of instruments in worship, some artifical object operated by a human that personalizes and amplifies their prayer\n",
    "'''\n",
    "\n",
    "df.to_csv('cluster_data.csv', sep='\\t', index=False)"
   ]
  },
  {
   "cell_type": "code",
   "execution_count": 26,
   "metadata": {},
   "outputs": [
    {
     "data": {
      "text/html": [
       "<div>\n",
       "<style scoped>\n",
       "    .dataframe tbody tr th:only-of-type {\n",
       "        vertical-align: middle;\n",
       "    }\n",
       "\n",
       "    .dataframe tbody tr th {\n",
       "        vertical-align: top;\n",
       "    }\n",
       "\n",
       "    .dataframe thead th {\n",
       "        text-align: right;\n",
       "    }\n",
       "</style>\n",
       "<table border=\"1\" class=\"dataframe\">\n",
       "  <thead>\n",
       "    <tr style=\"text-align: right;\">\n",
       "      <th></th>\n",
       "      <th>url</th>\n",
       "      <th>title</th>\n",
       "      <th>text</th>\n",
       "      <th>title_embedding</th>\n",
       "      <th>text_embedding</th>\n",
       "      <th>summary</th>\n",
       "      <th>cluster</th>\n",
       "      <th>cluster_info</th>\n",
       "      <th>cluster_label</th>\n",
       "      <th>cluster_desc</th>\n",
       "      <th>comments</th>\n",
       "    </tr>\n",
       "  </thead>\n",
       "  <tbody>\n",
       "    <tr>\n",
       "      <th>74</th>\n",
       "      <td>https://openai.com/research/language-models-ca...</td>\n",
       "      <td>Language models can explain neurons in languag...</td>\n",
       "      <td>Language models have become more capable and m...</td>\n",
       "      <td>[-0.00393151119351387, 0.025291765108704567, 0...</td>\n",
       "      <td>[-0.0233706496655941, 0.0037434822879731655, 0...</td>\n",
       "      <td>- Language models have become more capable and...</td>\n",
       "      <td>6</td>\n",
       "      <td>{'label': 'AI in Natural Language Processing',...</td>\n",
       "      <td>AI in Natural Language Processing</td>\n",
       "      <td>These articles explore the capabilities and li...</td>\n",
       "      <td>AI could provide a solution to the AI interpre...</td>\n",
       "    </tr>\n",
       "  </tbody>\n",
       "</table>\n",
       "</div>"
      ],
      "text/plain": [
       "                                                  url  \\\n",
       "74  https://openai.com/research/language-models-ca...   \n",
       "\n",
       "                                                title  \\\n",
       "74  Language models can explain neurons in languag...   \n",
       "\n",
       "                                                 text  \\\n",
       "74  Language models have become more capable and m...   \n",
       "\n",
       "                                      title_embedding  \\\n",
       "74  [-0.00393151119351387, 0.025291765108704567, 0...   \n",
       "\n",
       "                                       text_embedding  \\\n",
       "74  [-0.0233706496655941, 0.0037434822879731655, 0...   \n",
       "\n",
       "                                              summary  cluster  \\\n",
       "74  - Language models have become more capable and...        6   \n",
       "\n",
       "                                         cluster_info  \\\n",
       "74  {'label': 'AI in Natural Language Processing',...   \n",
       "\n",
       "                        cluster_label  \\\n",
       "74  AI in Natural Language Processing   \n",
       "\n",
       "                                         cluster_desc  \\\n",
       "74  These articles explore the capabilities and li...   \n",
       "\n",
       "                                             comments  \n",
       "74  AI could provide a solution to the AI interpre...  "
      ]
     },
     "execution_count": 26,
     "metadata": {},
     "output_type": "execute_result"
    }
   ],
   "source": [
    "df[df['title'] == 'Language models can explain neurons in language models']"
   ]
  },
  {
   "cell_type": "code",
   "execution_count": null,
   "metadata": {},
   "outputs": [],
   "source": []
  }
 ],
 "metadata": {
  "kernelspec": {
   "display_name": "ai_space",
   "language": "python",
   "name": "python3"
  },
  "language_info": {
   "codemirror_mode": {
    "name": "ipython",
    "version": 3
   },
   "file_extension": ".py",
   "mimetype": "text/x-python",
   "name": "python",
   "nbconvert_exporter": "python",
   "pygments_lexer": "ipython3",
   "version": "3.10.13"
  },
  "orig_nbformat": 4
 },
 "nbformat": 4,
 "nbformat_minor": 2
}
