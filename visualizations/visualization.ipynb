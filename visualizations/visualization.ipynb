{
 "cells": [
  {
   "cell_type": "code",
   "execution_count": 14,
   "id": "640a77d5",
   "metadata": {},
   "outputs": [],
   "source": [
    "import pandas as pd\n",
    "from sklearn.manifold import TSNE\n",
    "import numpy as np\n",
    "from ast import literal_eval"
   ]
  },
  {
   "cell_type": "code",
   "execution_count": 15,
   "id": "6b4f2610",
   "metadata": {},
   "outputs": [],
   "source": [
    "df = pd.read_csv('../embeddings/cluster_data.csv', sep='\\t')"
   ]
  },
  {
   "cell_type": "code",
   "execution_count": 21,
   "id": "0c0b171a",
   "metadata": {},
   "outputs": [
    {
     "data": {
      "application/vnd.plotly.v1+json": {
       "config": {
        "plotlyServerURL": "https://plot.ly"
       },
       "data": [
        {
         "customdata": [
          [
           "This AI girlfriend startup is making $100k a month fulfilling people’s fetishes",
           "AI in Various Domains"
          ],
          [
           " CBS MORNINGS  Scammers use AI to mimic voices of loved ones in distress",
           "AI Scams"
          ],
          [
           "AI is changing every aspect of psychology. Here’s what to watch for",
           "AI in Various Domains"
          ],
          [
           "Gender Shades: Intersectional Accuracy Disparities in Commercial Gender Classification",
           "AI in Various Domains"
          ],
          [
           "Reddit Poker Bot",
           "AI in Various Domains"
          ],
          [
           "Google Updates Its SEO Playbook for Content Generated With AI",
           "AI in Various Domains"
          ],
          [
           "This Is the Worst Part of the AI Hype Cycle",
           "AI in Various Domains"
          ],
          [
           "AS ACTORS STRIKE FOR AI PROTECTIONS, NETFLIX LISTS $900,000 AI JOB",
           "AI in Various Domains"
          ],
          [
           "AI that alters voice and imagery in political ads will require disclosure on Google and YouTube",
           "AI in Various Domains"
          ],
          [
           "US curbs AI chip exports from Nvidia and AMD to some Middle East countries",
           "AI in Various Domains"
          ],
          [
           "The Technology Facebook and Google Didn’t Dare Release",
           "AI in Various Domains"
          ],
          [
           "One afternoon in early 2017, at Facebook’s headquarters in Menlo Park, Calif., an engineer named Tommer Leyvand sat in a conference room with a smartphone standing on the brim of his baseball cap. Rubber bands helped anchor it in place with the camera facing out. The absurd hat-phone, a particularly uncool version of the future, contained a secret tool known only to a small group of employees. What it could do was remarkable.  The handful of men in the room were laughing and speaking over one another in excitement, as captured in a video taken that day, until one of them asked for quiet. The room went silent; the demo was underway.  Mr. Leyvand turned toward a man across the table from him. The smartphone’s camera lens — round, black, unblinking — hovered above Mr. Leyvand’s forehead like a Cyclops eye as it took in the face before it. Two seconds later, a robotic female voice declared, “Zach Howard.”  “That’s me,” confirmed Mr. Howard, a mechanical engineer.  An employee who saw the tech demonstration thought it was supposed to be a joke. But when the phone started correctly calling out names, he found it creepy, like something out of a dystopian movie.  The person-identifying hat-phone would be a godsend for someone with vision problems or face blindness, but it was risky. Facebook’s previous deployment of facial recognition technology, to help people tag friends in photos, had caused an outcry from privacy advocates and led to a class-action lawsuit in Illinois in 2015 that ultimately cost the company $650 million.  With technology like that on Mr. Leyvand’s head, Facebook could prevent users from ever forgetting a colleague’s name, give a reminder at a cocktail party that an acquaintance had kids to ask about or help find someone at a crowded conference. However, six years later, the company now known as Meta has not released a version of that product and Mr. Leyvand has departed for Apple to work on its Vision Pro augmented reality glasses.  In recent years, the start-ups Clearview AI and PimEyes have pushed the boundaries of what the public thought was possible by releasing face search engines paired with millions of photos from the public web (PimEyes) or even billions (Clearview). With these tools, available to the police in the case of Clearview AI and the public at large in the case of PimEyes, a snapshot of someone can be used to find other online photos where that face appears, potentially revealing a name, social media profiles or information a person would never want to be linked to publicly, such as risqué photos.  What these start-ups had done wasn’t a technological breakthrough; it was an ethical one. Tech giants had developed the ability to recognize unknown people’s faces years earlier, but had chosen to hold the technology back, deciding that the most extreme version — putting a name to a stranger’s face — was too dangerous to make widely available.  Editors’ Picks  He Dissected Trump. Now Michael Wolff Performs an Autopsy on Fox News.  She Pioneered Internet Fame, He Helped Draft a Constitution. Now They’re in Love.  What’s the Best Way to Treat Body Acne? Now that the taboo has been broken, facial recognition technology could become ubiquitous. Currently used by the police to solve crimes, authoritarian governments to monitor their citizens and businesses to keep out their enemies, it may soon be a tool in all our hands, an app on our phone — or in augmented reality glasses — that would usher in a world with no strangers.  ImageHoan Ton-That seated at a table in a house and wearing A.R. glasses The Clearview AI co-founder Hoan Ton-That wearing the A.R. glasses version of Clearview AI.Credit...Kashmir Hill/The New York Times  ‘We decided to stop’ As early as 2011, a Google engineer revealed he had been working on a tool to Google someone’s face and bring up other online photos of them. Months later, Google’s chairman, Eric Schmidt, said in an onstage interview that Google “built that technology, and we withheld it.”  “As far as I know, it’s the only technology that Google built and, after looking at it, we decided to stop,” Mr. Schmidt said.  Advertently or not, the tech giants also helped hold the technology back from general circulation by snapping up the most advanced start-ups that offered it. In 2010, Apple bought a promising Swedish facial recognition company called Polar Rose. In 2011, Google acquired a U.S. face recognition company popular with federal agencies called PittPatt. And in 2012, Facebook purchased the Israeli company Face.com. In each case, the new owners shut down the acquired companies’ services to outsiders. The Silicon Valley heavyweights were the de facto gatekeepers for how and whether the tech would be used.  Facebook, Google and Apple deployed facial recognition technology in what they considered to be relatively benign ways: as a security tool to unlock a smartphone, a more efficient way to tag known friends in photos and an organizational tool to categorize smartphone photos by the faces of the people in them.  In the last few years, though, the gates have been trampled by smaller, more aggressive companies, such as Clearview AI and PimEyes. What allowed the shift was the open-source nature of neural network technology, which now underpins most artificial intelligence software.  Understanding the path of facial recognition technology will help us navigate what is to come with other advancements in A.I., such as image- and text-generation tools. The power to decide what they can and can’t do will increasingly be determined by anyone with a bit of tech savvy, who may not pay heed to what the general public considers acceptable.  ‘Standing on the shoulders of giants’ How did we get to this point where someone can spot a “hot dad” on a Manhattan sidewalk and then use PimEyes to try to find out who he is and where he works? The short answer is a combination of free code shared online, a vast array of public photos, academic papers explaining how to put it all together and a cavalier attitude toward laws governing privacy.  The Clearview AI co-founder Hoan Ton-That, who led his company’s technological development, had no special background in biometrics. Before Clearview AI, he made Facebook quizzes, iPhone games and silly apps, such as “Trump Hair” to make a person in a photo appear to be coifed like the former president.  In his quest to create a groundbreaking and more lucrative app, Mr. Ton-That turned to free online resources, such as OpenFace — a “face recognition library” created by a group at Carnegie Mellon University. The code library was available on GitHub, with a warning: “Please use responsibly!”  “We do not support the use of this project in applications that violate privacy and security,” read the statement. “We are using this to help cognitively impaired users sense and understand the world around them.”  It was a noble request but completely unenforceable.  Mr. Ton-That got the OpenFace code up and running, but it wasn’t perfect, so he kept searching, wandering through the academic literature and code repositories, trying out this and that to see what worked. He was like a person walking through an orchard, sampling the fruit of decades of research, ripe for the picking and gloriously free.  “I couldn’t have done it if I had to build it from scratch,” he said, name-dropping some of the researchers who had advanced computer vision and artificial intelligence, including Geoffrey Hinton, “the godfather of A.I.” “I was standing on the shoulders of giants.”  Mr. Ton-That is still building. Clearview has developed a version of its app that works with augmented reality glasses, a more fully formed realization of the face-calling hat that the Facebook engineering team had rigged up years earlier.  The end of anonymity Image A hand holds a smartphone showing a full-figure photo of Mr. Ton-That wearing a white outfit and sunglasses, and an inset closeup of him wearing regular glasses. Mr. Ton-That demonstrating the company’s facial recognition software using a photo of himself.Credit...Seth Wenig/Associated Press  The $999 pair of augmented reality glasses, made by a company called Vuzix, connects the wearer to Clearview’s database of 30 billion faces. Clearview’s A.R. app, which can identity someone up to 10 feet away, is not yet publicly available, but the Air Force has provided funding for its possible use at military bases.  On a fall afternoon, Mr. Ton-That demonstrated the glasses for me at his spokeswoman’s apartment on the Upper West Side of Manhattan, putting them on and looking toward me.  “Ooooh, 176 photos,” he said. “Aspen Ideas Festival. Kashmir Hill,” he read from the image caption on one of the photos that came up.  Then he handed the glasses to me. I put them on. Though they looked clunky, they were lightweight and fit naturally. Mr. Ton-That said he had tried out other augmented reality glasses, but these had performed best. “They’ve got a new version coming,” he said. “And they’ll look cooler, more hipster.”  When I looked at Mr. Ton-That through the glasses, a green circle appeared around his face. I tapped a touch pad at my right temple. A message came up on a square display that only I could see on the right lens of the glasses: “Searching …”  And then the square filled with photos of him, a caption beneath each one. I scrolled through them using the touch pad. I tapped to select one that read “Clearview CEO, Hoan Ton-That;” it included a link that showed me that it had come from Clearview’s website.  I looked at his spokeswoman, searched her face, and 49 photos came up, including one with a client that she asked me not to mention. This casually revealed just how intrusive a search of someone’s face can be, even for a person whose job is to get the world to embrace this technology.  I wanted to take the glasses outside to see how they worked on people I didn’t actually know, but Mr. Ton-That said we couldn’t, both because the glasses required a Wi-Fi connection and because someone might recognize him and realize immediately what the glasses were and what they could do.  It didn’t frighten me, though I knew it should. It was clear that people who own a tool like this will inevitably have power over those who don’t. But there was a certain thrill in seeing it work, like a magic trick successfully performed.  A lost opportunity? Image Andrew Bosworth wears a gray suit and has both hands in his pockets. Andrew Bosworth, chief technology officer of Meta, said that face recognition was “hugely controversial” and that granting broad access to it was “a debate we need to have with the public.”Credit...David Paul Morris/Bloomberg  Meta has been working for years on its own augmented reality glasses. In an internal meeting in early 2021, the company’s chief technology officer, Andrew Bosworth, said he would love to equip them with facial recognition capabilities.  In a recording of the internal meeting, Mr. Bosworth said that leaving facial recognition out of augmented reality glasses was a lost opportunity for enhancing human memory. He talked about the universal experience of going to a dinner party and seeing someone you know but failing to recall their name.  “We could put a little name tag on them,” he said in the recording, with a short chuckle. “We could. We have that ability.”  But he expressed concern about the legality of offering such a tool. Buzzfeed reported on his remarks at the time. In response, Mr. Bosworth said that face recognition was “hugely controversial” and that granting broad access to it was “a debate we need to have with the public.”  While Meta’s augmented reality glasses are still in development, the company shut down the facial recognition system deployed on Facebook to tag friends in photos and deleted the more than one billion face prints it had created of its users.  It would be easy enough to turn such a system back on. When I asked a Meta spokesman about Mr. Bosworth’s comments and whether the company might put facial recognition into its augmented reality glasses one day, he would not rule out the possibility.",
           "AI in Various Domains"
          ],
          [
           "Google DeepMind AI speeds up search for disease genes",
           "AI in Various Domains"
          ],
          [
           "In U.S.-China AI contest, the race is on to deploy killer robots",
           "AI in Various Domains"
          ],
          [
           "In this new era, computers will generate smells like we generate images and sounds today. To fulfill this vision, Osmo is bringing together an accomplished, multidisciplinary team to build on its world-class research.  The Osmo team has expertise spanning machine learning, sensory neuroscience, data science, engineering, fine fragrance, analytical chemistry, and product development.   History  Before Osmo, our team was led by Alex Wiltschko at Google Research, where we used cutting-edge machine learning to build the foundations of Osmo’s map of smell.  01 Using Graph Neural Networks to achieve a major breakthrough in predicting the smell of a molecule from its structure  02 Creating new molecules no one had ever smelled before and predicting them with superhuman accuracy  03 Designing molecules that smell bad to mosquitoes (e.g. insect repellents) and are more potent than DEET in human trials  With the team’s work at Google Research validated over years, the best path for realizing the mission of digitizing smell would be through a separate startup, Osmo, dedicated to tackling the unique challenges to come.",
           "NLP and Language Models"
          ],
          [
           "The chilling rise of AI scams",
           "AI Scams"
          ],
          [
           "AI chatbot provides incorrect cancer treatment recommendations",
           "NLP and Language Models"
          ],
          [
           "I'm a Student. You Have No Idea How Much We're Using ChatGPT",
           "AI in Various Domains"
          ],
          [
           "Can the free market ensure artificial intelligence won't wipe out human workers?",
           "AI in Various Domains"
          ],
          [
           "Making ChatGPT Smarter, Today",
           "AI in Various Domains"
          ],
          [
           "An AI quadcopter has beaten human champions at drone racing",
           "AI in Various Domains"
          ],
          [
           "Study finds major shortcomings in Air Force processes to test AI technologies",
           "AI in Various Domains"
          ],
          [
           "Gannett to pause AI experiment after botched high school sports articles",
           "AI in Various Domains"
          ],
          [
           "Identifying AI-generated images with SynthID",
           "AI in Various Domains"
          ],
          [
           "Deep Quantum Graph Dreaming: Deciphering Neural Network Insights into Quantum Experiments",
           "AI in Quantum Computing"
          ],
          [
           "When you realize your favorite new song was written and performed by ... AI",
           "AI in Various Domains"
          ],
          [
           "MAJOR PUBLISHING HOUSE TO REPLACE HUNDREDS OF JOBS WITH AI",
           "AI in Various Domains"
          ],
          [
           "How Scientists Are Using AI to Talk to Animals",
           "AI in Healthcare and Communication"
          ],
          [
           "Scammers use AI to mimic voices of loved ones in distress",
           "AI Scams"
          ],
          [
           "Why AI stocks aren’t in a bubble",
           "AI in Various Domains"
          ],
          [
           "AI Helps Crack NIST-Recommended Post-Quantum Encryption Algorithm",
           "AI in Quantum Computing"
          ],
          [
           "Inside the messy ethics of making war with machines",
           "AI in Various Domains"
          ],
          [
           "Breaking a Fifth-Order Masked Implementation of CRYSTALS-Kyber by Copy-Paste",
           "AI in Quantum Computing"
          ],
          [
           "New Jersey's Ocean City taps AI gun detection in hopes of thwarting mass shootings",
           "AI in Various Domains"
          ],
          [
           "ChatGPT Calls for Scholarship, Not Panic",
           "AI in Various Domains"
          ],
          [
           "TikTok Is Letting People Shut Off Its Infamous Algorithm—and Think for Themselves",
           "AI in Various Domains"
          ],
          [
           "Google DeepMind AI tool assesses DNA mutations for harm potential",
           "AI in Various Domains"
          ],
          [
           "Unlocking the power of AI for ocean exploration",
           "AI in Various Domains"
          ],
          [
           "Analyzing the European Union AI Act: What Works, What Needs Improvement",
           "AI in Various Domains"
          ],
          [
           "ChatGPT in Banking: Balancing Its Promise and Its Risks",
           "AI in Various Domains"
          ],
          [
           "FDA-cleared artificial intelligence and machine learning-based medical devices and their 510(k) predicate networks",
           "AI in Various Domains"
          ],
          [
           "Using AI to fight climate change",
           "AI in Various Domains"
          ],
          [
           "IRS plan to use AI may affect wealthy taxpayers. Here’s how",
           "AI in Various Domains"
          ],
          [
           "31% of investors are OK with using artificial intelligence as their advisor",
           "AI in Various Domains"
          ],
          [
           "Cramer warns Wall Street’s AI craze may be peaking",
           "AI in Various Domains"
          ],
          [
           "Artificial intelligence for natural product drug discovery",
           "AI in Various Domains"
          ],
          [
           "Do Large Language Models learn world models or just surface statistics?",
           "NLP and Language Models"
          ],
          [
           "Positive Use Cases of Synthetic Media (aka Deepfakes)",
           "AI in Various Domains"
          ],
          [
           "Could AI-powered Robot “Companions” Combat Human Loneliness?",
           "AI in Various Domains"
          ],
          [
           "Inside the Senate’s Private AI Meeting With Tech’s Billionaire Elites",
           "AI in Various Domains"
          ],
          [
           "These Prisoners Are Training AI",
           "AI in Various Domains"
          ],
          [
           "Online product reviews are becoming a battlefield for modern AI",
           "AI in Various Domains"
          ],
          [
           "The Fall of Babylon Is a Warning for AI Unicorns",
           "AI in Various Domains"
          ],
          [
           "How robotaxis are dividing San Francisco",
           "AI in Various Domains"
          ],
          [
           "1 Small AI Stock Just Landed New Orders Worth Over $100 Million",
           "AI in Various Domains"
          ],
          [
           "Updates to Political content policy (September 2023)",
           "AI in Various Domains"
          ],
          [
           "Texas church experiments with AI-generated service, uses ChatGPT for worship, sermon, and original song",
           "AI in Various Domains"
          ],
          [
           "How an Iowa School District Used ChatGPT to Ban Books",
           "AI in Various Domains"
          ],
          [
           "The Age of AI has begun",
           "AI in Various Domains"
          ],
          [
           "Israel's new military AI systems select targets and plan missions 'in minutes'",
           "AI in Various Domains"
          ],
          [
           "Artificial intelligence technology behind ChatGPT was built in Iowa — with a lot of water",
           "AI in Various Domains"
          ],
          [
           "FEC moves toward potentially regulating AI deepfakes in campaign ads",
           "AI in Various Domains"
          ],
          [
           "Wearable tech for animals: An exciting new frontier",
           "AI in Various Domains"
          ],
          [
           "To Infinity and Beyond: SHOW-1 and Showrunner Agents in Multi-Agent Simulations",
           "NLP and Language Models"
          ],
          [
           "Identifying and Mitigating the Security Risks of Generative AI",
           "AI in Various Domains"
          ],
          [
           "A Multitask, Multilingual, Multimodal Evaluation of ChatGPT on Reasoning, Hallucination, and Interactivity",
           "NLP and Language Models"
          ],
          [
           "ChatGPT Beyond English: Towards a Comprehensive Evaluation of Large Language Models in Multilingual Learning",
           "NLP and Language Models"
          ],
          [
           "It Costs Just $400 to Build an AI Disinformation Machine",
           "AI in Various Domains"
          ],
          [
           "Suspected Chinese operatives using AI generated images to spread disinformation among US voters, Microsoft says",
           "AI in Various Domains"
          ],
          [
           "In Praise of Boring AI",
           "AI in Various Domains"
          ],
          [
           "Where Memory Ends and Generative AI Begins",
           "AI in Various Domains"
          ],
          [
           "PANS: A Portable Navigation Platform",
           "AI in Healthcare and Communication"
          ],
          [
           "Man beats machine at Go in human victory over AI",
           "AI in Various Domains"
          ],
          [
           "US rejects AI copyright for famous state fair-winning Midjourney art",
           "AI in Various Domains"
          ],
          [
           "AI goes to church in South Korea, sparks controversy",
           "AI in Various Domains"
          ],
          [
           "Language models can explain neurons in language models",
           "AI in Quantum Computing"
          ],
          [
           "How AI Can Manipulate Your Choices",
           "AI in Various Domains"
          ],
          [
           "Artificial Intelligence Flags Knee Osteoarthritis Using Medical Images",
           "AI in Various Domains"
          ],
          [
           "Will DALL-E the AI Artist Take My Job?",
           "AI in Various Domains"
          ],
          [
           "Microsoft files new AI-powered smart backpack patent. It can hear you and see what you see",
           "AI in Various Domains"
          ],
          [
           "Elon Musk Says Neuralink Could Slash Risk From AI As Firm Prepares For First Human Trials",
           "AI in Healthcare and Communication"
          ],
          [
           "Artificial Intelligence Chatbot Performance in Triage of Ophthalmic Conditions",
           "AI in Various Domains"
          ],
          [
           "Universal and Transferable Adversarial Attacks on Aligned Language Models",
           "NLP and Language Models"
          ],
          [
           "Universal and Transferable Adversarial Attacks on Aligned Language Models",
           "NLP and Language Models"
          ],
          [
           "Revolver by The Beatles has just been remixed and re-released — but is it scraping the bottom of the barrel?",
           "AI in Various Domains"
          ],
          [
           "'Dr. Google' meets its match in Dr. ChatGPT",
           "AI in Various Domains"
          ],
          [
           "An AI-Powered Robot That Can Train Your Dog Is Hitting The Market",
           "AI in Various Domains"
          ],
          [
           "As artificial intelligence and robotics advance, a basic income may be the only viable solution",
           "AI in Various Domains"
          ],
          [
           "How the AI revolution is different: It threatens white-collar workers",
           "AI in Various Domains"
          ],
          [
           "How artificial intelligence gave a paralyzed woman her voice back",
           "AI in Healthcare and Communication"
          ],
          [
           "Wave-U-Net: A Multi-Scale Neural Network for End-to-End Audio Source Separation",
           "AI in Quantum Computing"
          ]
         ],
         "hovertemplate": "x=%{x}<br>y=%{y}<br>title=%{customdata[0]}<br>cluster_label=%{customdata[1]}<br>cluster=%{marker.color}<extra></extra>",
         "legendgroup": "",
         "marker": {
          "color": [
           4,
           1,
           2,
           2,
           4,
           6,
           4,
           4,
           6,
           5,
           4,
           0,
           2,
           5,
           3,
           1,
           3,
           0,
           2,
           0,
           5,
           5,
           6,
           6,
           8,
           4,
           4,
           7,
           1,
           2,
           8,
           5,
           8,
           5,
           0,
           2,
           6,
           5,
           2,
           0,
           5,
           2,
           5,
           0,
           0,
           2,
           3,
           2,
           2,
           2,
           4,
           6,
           2,
           4,
           4,
           6,
           0,
           0,
           2,
           5,
           2,
           6,
           2,
           3,
           0,
           3,
           3,
           6,
           6,
           2,
           4,
           7,
           4,
           4,
           0,
           8,
           2,
           5,
           4,
           2,
           7,
           2,
           3,
           3,
           4,
           2,
           2,
           2,
           2,
           7,
           8
          ],
          "coloraxis": "coloraxis",
          "symbol": "circle"
         },
         "mode": "markers",
         "name": "",
         "orientation": "v",
         "showlegend": false,
         "type": "scatter",
         "x": [
          44.53206253051758,
          36.082191467285156,
          -0.8946499824523926,
          -71.71707153320312,
          -46.88481140136719,
          57.99430465698242,
          -3.405299425125122,
          59.21046829223633,
          102.14189910888672,
          14.509613037109375,
          14.257891654968262,
          28.854026794433594,
          635.7341918945312,
          -14.660902976989746,
          -150.54615783691406,
          45.36478805541992,
          -139.6656036376953,
          79.38894653320312,
          46.89663314819336,
          -99.87773895263672,
          -23.032413482666016,
          29.94049835205078,
          90.76322937011719,
          21.471738815307617,
          -126.78323364257812,
          5.8050618171691895,
          99.91305541992188,
          5.848311424255371,
          45.02817153930664,
          143.33258056640625,
          -110.22000122070312,
          -10.232278823852539,
          -118.08084106445312,
          -27.249345779418945,
          83.9898681640625,
          105.19470977783203,
          -766.351806640625,
          -42.1380615234375,
          91.240966796875,
          15.33764362335205,
          -76.80891418457031,
          -27.7725887298584,
          70.07881164550781,
          26.21017074584961,
          137.41976928710938,
          -79.81861877441406,
          -132.17141723632812,
          -50.824745178222656,
          -24.474422454833984,
          78.14309692382812,
          70.5224609375,
          44.363380432128906,
          -74.24845886230469,
          -2.9170680046081543,
          150.19320678710938,
          115.24192810058594,
          -60.58389663696289,
          96.82428741455078,
          15.254831314086914,
          -5.361332416534424,
          6.750597953796387,
          98.24083709716797,
          -13.836172103881836,
          -118.05843353271484,
          -64.2108383178711,
          -119.45611572265625,
          -123.16693878173828,
          72.9651870727539,
          79.07971954345703,
          37.43989181518555,
          33.45937728881836,
          -13.592314720153809,
          -33.78962707519531,
          47.070655822753906,
          -58.83883285522461,
          -128.63636779785156,
          -5.675589561462402,
          -17.103151321411133,
          42.45597839355469,
          -33.08910369873047,
          38.48870086669922,
          -96.96206665039062,
          -144.92454528808594,
          -152.97024536132812,
          -15.902814865112305,
          -87.57645416259766,
          -22.85457992553711,
          55.66356658935547,
          53.938323974609375,
          15.814867973327637,
          -138.43917846679688
         ],
         "xaxis": "x",
         "y": [
          -113.49205780029297,
          143.3580780029297,
          -4.956054210662842,
          -52.33462142944336,
          -122.41734313964844,
          -36.671142578125,
          109.73551177978516,
          26.3510684967041,
          -80.08025360107422,
          -65.02161407470703,
          -95.35371398925781,
          -7.391357421875,
          822.5818481445312,
          -89.73667907714844,
          15.962753295898438,
          154.60226440429688,
          24.129323959350586,
          -1.9067622423171997,
          0.07005786150693893,
          23.7463321685791,
          -102.65753173828125,
          36.091529846191406,
          -32.17161178588867,
          -123.41434478759766,
          -50.542179107666016,
          105.5705337524414,
          -39.893070220947266,
          65.51824188232422,
          138.59078979492188,
          -3.2564549446105957,
          -100.68214416503906,
          -74.2423324584961,
          -94.8072738647461,
          -71.86740112304688,
          7.436295509338379,
          50.6727180480957,
          -480.57745361328125,
          -71.7286605834961,
          48.95161437988281,
          -25.462112426757812,
          -16.17469024658203,
          -8.387667655944824,
          62.296875,
          -31.580167770385742,
          7.944443702697754,
          -30.27684783935547,
          -20.16594696044922,
          -33.46181869506836,
          25.947643280029297,
          46.76520538330078,
          -117.30758666992188,
          -38.08275604248047,
          78.72618865966797,
          -153.1294403076172,
          -14.86586856842041,
          -80.69011688232422,
          29.367189407348633,
          -4.073061466217041,
          2.775808334350586,
          -64.42910766601562,
          18.51685333251953,
          -90.0411148071289,
          52.892486572265625,
          -18.83184051513672,
          -34.33919906616211,
          19.201919555664062,
          9.594124794006348,
          -62.43476486206055,
          -71.39019012451172,
          10.205994606018066,
          -99.58622741699219,
          -156.68316650390625,
          -112.87091827392578,
          -78.64140319824219,
          19.709901809692383,
          -36.90776062011719,
          -15.00961971282959,
          -45.85438537597656,
          -93.80086517333984,
          67.83613586425781,
          69.01826477050781,
          64.9875717163086,
          -3.5932891368865967,
          -11.365517616271973,
          118.43927764892578,
          69.35260009765625,
          36.97520065307617,
          -10.848020553588867,
          7.489201068878174,
          69.92261505126953,
          -61.41327667236328
         ],
         "yaxis": "y"
        }
       ],
       "layout": {
        "coloraxis": {
         "colorbar": {
          "title": {
           "text": "cluster"
          }
         },
         "colorscale": [
          [
           0,
           "#0d0887"
          ],
          [
           0.1111111111111111,
           "#46039f"
          ],
          [
           0.2222222222222222,
           "#7201a8"
          ],
          [
           0.3333333333333333,
           "#9c179e"
          ],
          [
           0.4444444444444444,
           "#bd3786"
          ],
          [
           0.5555555555555556,
           "#d8576b"
          ],
          [
           0.6666666666666666,
           "#ed7953"
          ],
          [
           0.7777777777777778,
           "#fb9f3a"
          ],
          [
           0.8888888888888888,
           "#fdca26"
          ],
          [
           1,
           "#f0f921"
          ]
         ]
        },
        "legend": {
         "tracegroupgap": 0
        },
        "margin": {
         "t": 60
        },
        "template": {
         "data": {
          "bar": [
           {
            "error_x": {
             "color": "#2a3f5f"
            },
            "error_y": {
             "color": "#2a3f5f"
            },
            "marker": {
             "line": {
              "color": "#E5ECF6",
              "width": 0.5
             },
             "pattern": {
              "fillmode": "overlay",
              "size": 10,
              "solidity": 0.2
             }
            },
            "type": "bar"
           }
          ],
          "barpolar": [
           {
            "marker": {
             "line": {
              "color": "#E5ECF6",
              "width": 0.5
             },
             "pattern": {
              "fillmode": "overlay",
              "size": 10,
              "solidity": 0.2
             }
            },
            "type": "barpolar"
           }
          ],
          "carpet": [
           {
            "aaxis": {
             "endlinecolor": "#2a3f5f",
             "gridcolor": "white",
             "linecolor": "white",
             "minorgridcolor": "white",
             "startlinecolor": "#2a3f5f"
            },
            "baxis": {
             "endlinecolor": "#2a3f5f",
             "gridcolor": "white",
             "linecolor": "white",
             "minorgridcolor": "white",
             "startlinecolor": "#2a3f5f"
            },
            "type": "carpet"
           }
          ],
          "choropleth": [
           {
            "colorbar": {
             "outlinewidth": 0,
             "ticks": ""
            },
            "type": "choropleth"
           }
          ],
          "contour": [
           {
            "colorbar": {
             "outlinewidth": 0,
             "ticks": ""
            },
            "colorscale": [
             [
              0,
              "#0d0887"
             ],
             [
              0.1111111111111111,
              "#46039f"
             ],
             [
              0.2222222222222222,
              "#7201a8"
             ],
             [
              0.3333333333333333,
              "#9c179e"
             ],
             [
              0.4444444444444444,
              "#bd3786"
             ],
             [
              0.5555555555555556,
              "#d8576b"
             ],
             [
              0.6666666666666666,
              "#ed7953"
             ],
             [
              0.7777777777777778,
              "#fb9f3a"
             ],
             [
              0.8888888888888888,
              "#fdca26"
             ],
             [
              1,
              "#f0f921"
             ]
            ],
            "type": "contour"
           }
          ],
          "contourcarpet": [
           {
            "colorbar": {
             "outlinewidth": 0,
             "ticks": ""
            },
            "type": "contourcarpet"
           }
          ],
          "heatmap": [
           {
            "colorbar": {
             "outlinewidth": 0,
             "ticks": ""
            },
            "colorscale": [
             [
              0,
              "#0d0887"
             ],
             [
              0.1111111111111111,
              "#46039f"
             ],
             [
              0.2222222222222222,
              "#7201a8"
             ],
             [
              0.3333333333333333,
              "#9c179e"
             ],
             [
              0.4444444444444444,
              "#bd3786"
             ],
             [
              0.5555555555555556,
              "#d8576b"
             ],
             [
              0.6666666666666666,
              "#ed7953"
             ],
             [
              0.7777777777777778,
              "#fb9f3a"
             ],
             [
              0.8888888888888888,
              "#fdca26"
             ],
             [
              1,
              "#f0f921"
             ]
            ],
            "type": "heatmap"
           }
          ],
          "heatmapgl": [
           {
            "colorbar": {
             "outlinewidth": 0,
             "ticks": ""
            },
            "colorscale": [
             [
              0,
              "#0d0887"
             ],
             [
              0.1111111111111111,
              "#46039f"
             ],
             [
              0.2222222222222222,
              "#7201a8"
             ],
             [
              0.3333333333333333,
              "#9c179e"
             ],
             [
              0.4444444444444444,
              "#bd3786"
             ],
             [
              0.5555555555555556,
              "#d8576b"
             ],
             [
              0.6666666666666666,
              "#ed7953"
             ],
             [
              0.7777777777777778,
              "#fb9f3a"
             ],
             [
              0.8888888888888888,
              "#fdca26"
             ],
             [
              1,
              "#f0f921"
             ]
            ],
            "type": "heatmapgl"
           }
          ],
          "histogram": [
           {
            "marker": {
             "pattern": {
              "fillmode": "overlay",
              "size": 10,
              "solidity": 0.2
             }
            },
            "type": "histogram"
           }
          ],
          "histogram2d": [
           {
            "colorbar": {
             "outlinewidth": 0,
             "ticks": ""
            },
            "colorscale": [
             [
              0,
              "#0d0887"
             ],
             [
              0.1111111111111111,
              "#46039f"
             ],
             [
              0.2222222222222222,
              "#7201a8"
             ],
             [
              0.3333333333333333,
              "#9c179e"
             ],
             [
              0.4444444444444444,
              "#bd3786"
             ],
             [
              0.5555555555555556,
              "#d8576b"
             ],
             [
              0.6666666666666666,
              "#ed7953"
             ],
             [
              0.7777777777777778,
              "#fb9f3a"
             ],
             [
              0.8888888888888888,
              "#fdca26"
             ],
             [
              1,
              "#f0f921"
             ]
            ],
            "type": "histogram2d"
           }
          ],
          "histogram2dcontour": [
           {
            "colorbar": {
             "outlinewidth": 0,
             "ticks": ""
            },
            "colorscale": [
             [
              0,
              "#0d0887"
             ],
             [
              0.1111111111111111,
              "#46039f"
             ],
             [
              0.2222222222222222,
              "#7201a8"
             ],
             [
              0.3333333333333333,
              "#9c179e"
             ],
             [
              0.4444444444444444,
              "#bd3786"
             ],
             [
              0.5555555555555556,
              "#d8576b"
             ],
             [
              0.6666666666666666,
              "#ed7953"
             ],
             [
              0.7777777777777778,
              "#fb9f3a"
             ],
             [
              0.8888888888888888,
              "#fdca26"
             ],
             [
              1,
              "#f0f921"
             ]
            ],
            "type": "histogram2dcontour"
           }
          ],
          "mesh3d": [
           {
            "colorbar": {
             "outlinewidth": 0,
             "ticks": ""
            },
            "type": "mesh3d"
           }
          ],
          "parcoords": [
           {
            "line": {
             "colorbar": {
              "outlinewidth": 0,
              "ticks": ""
             }
            },
            "type": "parcoords"
           }
          ],
          "pie": [
           {
            "automargin": true,
            "type": "pie"
           }
          ],
          "scatter": [
           {
            "fillpattern": {
             "fillmode": "overlay",
             "size": 10,
             "solidity": 0.2
            },
            "type": "scatter"
           }
          ],
          "scatter3d": [
           {
            "line": {
             "colorbar": {
              "outlinewidth": 0,
              "ticks": ""
             }
            },
            "marker": {
             "colorbar": {
              "outlinewidth": 0,
              "ticks": ""
             }
            },
            "type": "scatter3d"
           }
          ],
          "scattercarpet": [
           {
            "marker": {
             "colorbar": {
              "outlinewidth": 0,
              "ticks": ""
             }
            },
            "type": "scattercarpet"
           }
          ],
          "scattergeo": [
           {
            "marker": {
             "colorbar": {
              "outlinewidth": 0,
              "ticks": ""
             }
            },
            "type": "scattergeo"
           }
          ],
          "scattergl": [
           {
            "marker": {
             "colorbar": {
              "outlinewidth": 0,
              "ticks": ""
             }
            },
            "type": "scattergl"
           }
          ],
          "scattermapbox": [
           {
            "marker": {
             "colorbar": {
              "outlinewidth": 0,
              "ticks": ""
             }
            },
            "type": "scattermapbox"
           }
          ],
          "scatterpolar": [
           {
            "marker": {
             "colorbar": {
              "outlinewidth": 0,
              "ticks": ""
             }
            },
            "type": "scatterpolar"
           }
          ],
          "scatterpolargl": [
           {
            "marker": {
             "colorbar": {
              "outlinewidth": 0,
              "ticks": ""
             }
            },
            "type": "scatterpolargl"
           }
          ],
          "scatterternary": [
           {
            "marker": {
             "colorbar": {
              "outlinewidth": 0,
              "ticks": ""
             }
            },
            "type": "scatterternary"
           }
          ],
          "surface": [
           {
            "colorbar": {
             "outlinewidth": 0,
             "ticks": ""
            },
            "colorscale": [
             [
              0,
              "#0d0887"
             ],
             [
              0.1111111111111111,
              "#46039f"
             ],
             [
              0.2222222222222222,
              "#7201a8"
             ],
             [
              0.3333333333333333,
              "#9c179e"
             ],
             [
              0.4444444444444444,
              "#bd3786"
             ],
             [
              0.5555555555555556,
              "#d8576b"
             ],
             [
              0.6666666666666666,
              "#ed7953"
             ],
             [
              0.7777777777777778,
              "#fb9f3a"
             ],
             [
              0.8888888888888888,
              "#fdca26"
             ],
             [
              1,
              "#f0f921"
             ]
            ],
            "type": "surface"
           }
          ],
          "table": [
           {
            "cells": {
             "fill": {
              "color": "#EBF0F8"
             },
             "line": {
              "color": "white"
             }
            },
            "header": {
             "fill": {
              "color": "#C8D4E3"
             },
             "line": {
              "color": "white"
             }
            },
            "type": "table"
           }
          ]
         },
         "layout": {
          "annotationdefaults": {
           "arrowcolor": "#2a3f5f",
           "arrowhead": 0,
           "arrowwidth": 1
          },
          "autotypenumbers": "strict",
          "coloraxis": {
           "colorbar": {
            "outlinewidth": 0,
            "ticks": ""
           }
          },
          "colorscale": {
           "diverging": [
            [
             0,
             "#8e0152"
            ],
            [
             0.1,
             "#c51b7d"
            ],
            [
             0.2,
             "#de77ae"
            ],
            [
             0.3,
             "#f1b6da"
            ],
            [
             0.4,
             "#fde0ef"
            ],
            [
             0.5,
             "#f7f7f7"
            ],
            [
             0.6,
             "#e6f5d0"
            ],
            [
             0.7,
             "#b8e186"
            ],
            [
             0.8,
             "#7fbc41"
            ],
            [
             0.9,
             "#4d9221"
            ],
            [
             1,
             "#276419"
            ]
           ],
           "sequential": [
            [
             0,
             "#0d0887"
            ],
            [
             0.1111111111111111,
             "#46039f"
            ],
            [
             0.2222222222222222,
             "#7201a8"
            ],
            [
             0.3333333333333333,
             "#9c179e"
            ],
            [
             0.4444444444444444,
             "#bd3786"
            ],
            [
             0.5555555555555556,
             "#d8576b"
            ],
            [
             0.6666666666666666,
             "#ed7953"
            ],
            [
             0.7777777777777778,
             "#fb9f3a"
            ],
            [
             0.8888888888888888,
             "#fdca26"
            ],
            [
             1,
             "#f0f921"
            ]
           ],
           "sequentialminus": [
            [
             0,
             "#0d0887"
            ],
            [
             0.1111111111111111,
             "#46039f"
            ],
            [
             0.2222222222222222,
             "#7201a8"
            ],
            [
             0.3333333333333333,
             "#9c179e"
            ],
            [
             0.4444444444444444,
             "#bd3786"
            ],
            [
             0.5555555555555556,
             "#d8576b"
            ],
            [
             0.6666666666666666,
             "#ed7953"
            ],
            [
             0.7777777777777778,
             "#fb9f3a"
            ],
            [
             0.8888888888888888,
             "#fdca26"
            ],
            [
             1,
             "#f0f921"
            ]
           ]
          },
          "colorway": [
           "#636efa",
           "#EF553B",
           "#00cc96",
           "#ab63fa",
           "#FFA15A",
           "#19d3f3",
           "#FF6692",
           "#B6E880",
           "#FF97FF",
           "#FECB52"
          ],
          "font": {
           "color": "#2a3f5f"
          },
          "geo": {
           "bgcolor": "white",
           "lakecolor": "white",
           "landcolor": "#E5ECF6",
           "showlakes": true,
           "showland": true,
           "subunitcolor": "white"
          },
          "hoverlabel": {
           "align": "left"
          },
          "hovermode": "closest",
          "mapbox": {
           "style": "light"
          },
          "paper_bgcolor": "white",
          "plot_bgcolor": "#E5ECF6",
          "polar": {
           "angularaxis": {
            "gridcolor": "white",
            "linecolor": "white",
            "ticks": ""
           },
           "bgcolor": "#E5ECF6",
           "radialaxis": {
            "gridcolor": "white",
            "linecolor": "white",
            "ticks": ""
           }
          },
          "scene": {
           "xaxis": {
            "backgroundcolor": "#E5ECF6",
            "gridcolor": "white",
            "gridwidth": 2,
            "linecolor": "white",
            "showbackground": true,
            "ticks": "",
            "zerolinecolor": "white"
           },
           "yaxis": {
            "backgroundcolor": "#E5ECF6",
            "gridcolor": "white",
            "gridwidth": 2,
            "linecolor": "white",
            "showbackground": true,
            "ticks": "",
            "zerolinecolor": "white"
           },
           "zaxis": {
            "backgroundcolor": "#E5ECF6",
            "gridcolor": "white",
            "gridwidth": 2,
            "linecolor": "white",
            "showbackground": true,
            "ticks": "",
            "zerolinecolor": "white"
           }
          },
          "shapedefaults": {
           "line": {
            "color": "#2a3f5f"
           }
          },
          "ternary": {
           "aaxis": {
            "gridcolor": "white",
            "linecolor": "white",
            "ticks": ""
           },
           "baxis": {
            "gridcolor": "white",
            "linecolor": "white",
            "ticks": ""
           },
           "bgcolor": "#E5ECF6",
           "caxis": {
            "gridcolor": "white",
            "linecolor": "white",
            "ticks": ""
           }
          },
          "title": {
           "x": 0.05
          },
          "xaxis": {
           "automargin": true,
           "gridcolor": "white",
           "linecolor": "white",
           "ticks": "",
           "title": {
            "standoff": 15
           },
           "zerolinecolor": "white",
           "zerolinewidth": 2
          },
          "yaxis": {
           "automargin": true,
           "gridcolor": "white",
           "linecolor": "white",
           "ticks": "",
           "title": {
            "standoff": 15
           },
           "zerolinecolor": "white",
           "zerolinewidth": 2
          }
         }
        },
        "xaxis": {
         "anchor": "y",
         "domain": [
          0,
          1
         ],
         "title": {
          "text": "x"
         }
        },
        "yaxis": {
         "anchor": "x",
         "domain": [
          0,
          1
         ],
         "title": {
          "text": "y"
         }
        }
       }
      }
     },
     "metadata": {},
     "output_type": "display_data"
    }
   ],
   "source": [
    "\"\"\"\n",
    "T-SNE Visualization\n",
    "\"\"\"\n",
    "# Convert to a list of lists of floats\n",
    "# https://github.com/openai/openai-cookbook/blob/main/examples/Visualizing_embeddings_in_2D.ipynb\n",
    "matrix = np.array(df['text_embedding'].apply(literal_eval).to_list())\n",
    "\n",
    "tsne = TSNE(n_components=2, perplexity=10, random_state=42, init='random', learning_rate=200)\n",
    "vis_dims = tsne.fit_transform(matrix)\n",
    "\n",
    "x = [x for x,y in vis_dims]\n",
    "y = [y for x,y in vis_dims]\n",
    "\n",
    "import plotly.express as px\n",
    "fig = px.scatter(df, x=x, y=y, hover_data=['title', 'cluster_label'], color='cluster')\n",
    "fig.show()"
   ]
  },
  {
   "cell_type": "code",
   "execution_count": 18,
   "id": "1e210cbc",
   "metadata": {},
   "outputs": [
    {
     "data": {
      "application/vnd.plotly.v1+json": {
       "config": {
        "plotlyServerURL": "https://plot.ly"
       },
       "data": [
        {
         "customdata": [
          [
           "This AI girlfriend startup is making $100k a month fulfilling people’s fetishes",
           "AI in Various Domains"
          ],
          [
           " CBS MORNINGS  Scammers use AI to mimic voices of loved ones in distress",
           "AI Scams"
          ],
          [
           "AI is changing every aspect of psychology. Here’s what to watch for",
           "AI in Various Domains"
          ],
          [
           "Gender Shades: Intersectional Accuracy Disparities in Commercial Gender Classification",
           "AI in Various Domains"
          ],
          [
           "Reddit Poker Bot",
           "AI in Various Domains"
          ],
          [
           "Google Updates Its SEO Playbook for Content Generated With AI",
           "AI in Various Domains"
          ],
          [
           "This Is the Worst Part of the AI Hype Cycle",
           "AI in Various Domains"
          ],
          [
           "AS ACTORS STRIKE FOR AI PROTECTIONS, NETFLIX LISTS $900,000 AI JOB",
           "AI in Various Domains"
          ],
          [
           "AI that alters voice and imagery in political ads will require disclosure on Google and YouTube",
           "AI in Various Domains"
          ],
          [
           "US curbs AI chip exports from Nvidia and AMD to some Middle East countries",
           "AI in Various Domains"
          ],
          [
           "The Technology Facebook and Google Didn’t Dare Release",
           "AI in Various Domains"
          ],
          [
           "One afternoon in early 2017, at Facebook’s headquarters in Menlo Park, Calif., an engineer named Tommer Leyvand sat in a conference room with a smartphone standing on the brim of his baseball cap. Rubber bands helped anchor it in place with the camera facing out. The absurd hat-phone, a particularly uncool version of the future, contained a secret tool known only to a small group of employees. What it could do was remarkable.  The handful of men in the room were laughing and speaking over one another in excitement, as captured in a video taken that day, until one of them asked for quiet. The room went silent; the demo was underway.  Mr. Leyvand turned toward a man across the table from him. The smartphone’s camera lens — round, black, unblinking — hovered above Mr. Leyvand’s forehead like a Cyclops eye as it took in the face before it. Two seconds later, a robotic female voice declared, “Zach Howard.”  “That’s me,” confirmed Mr. Howard, a mechanical engineer.  An employee who saw the tech demonstration thought it was supposed to be a joke. But when the phone started correctly calling out names, he found it creepy, like something out of a dystopian movie.  The person-identifying hat-phone would be a godsend for someone with vision problems or face blindness, but it was risky. Facebook’s previous deployment of facial recognition technology, to help people tag friends in photos, had caused an outcry from privacy advocates and led to a class-action lawsuit in Illinois in 2015 that ultimately cost the company $650 million.  With technology like that on Mr. Leyvand’s head, Facebook could prevent users from ever forgetting a colleague’s name, give a reminder at a cocktail party that an acquaintance had kids to ask about or help find someone at a crowded conference. However, six years later, the company now known as Meta has not released a version of that product and Mr. Leyvand has departed for Apple to work on its Vision Pro augmented reality glasses.  In recent years, the start-ups Clearview AI and PimEyes have pushed the boundaries of what the public thought was possible by releasing face search engines paired with millions of photos from the public web (PimEyes) or even billions (Clearview). With these tools, available to the police in the case of Clearview AI and the public at large in the case of PimEyes, a snapshot of someone can be used to find other online photos where that face appears, potentially revealing a name, social media profiles or information a person would never want to be linked to publicly, such as risqué photos.  What these start-ups had done wasn’t a technological breakthrough; it was an ethical one. Tech giants had developed the ability to recognize unknown people’s faces years earlier, but had chosen to hold the technology back, deciding that the most extreme version — putting a name to a stranger’s face — was too dangerous to make widely available.  Editors’ Picks  He Dissected Trump. Now Michael Wolff Performs an Autopsy on Fox News.  She Pioneered Internet Fame, He Helped Draft a Constitution. Now They’re in Love.  What’s the Best Way to Treat Body Acne? Now that the taboo has been broken, facial recognition technology could become ubiquitous. Currently used by the police to solve crimes, authoritarian governments to monitor their citizens and businesses to keep out their enemies, it may soon be a tool in all our hands, an app on our phone — or in augmented reality glasses — that would usher in a world with no strangers.  ImageHoan Ton-That seated at a table in a house and wearing A.R. glasses The Clearview AI co-founder Hoan Ton-That wearing the A.R. glasses version of Clearview AI.Credit...Kashmir Hill/The New York Times  ‘We decided to stop’ As early as 2011, a Google engineer revealed he had been working on a tool to Google someone’s face and bring up other online photos of them. Months later, Google’s chairman, Eric Schmidt, said in an onstage interview that Google “built that technology, and we withheld it.”  “As far as I know, it’s the only technology that Google built and, after looking at it, we decided to stop,” Mr. Schmidt said.  Advertently or not, the tech giants also helped hold the technology back from general circulation by snapping up the most advanced start-ups that offered it. In 2010, Apple bought a promising Swedish facial recognition company called Polar Rose. In 2011, Google acquired a U.S. face recognition company popular with federal agencies called PittPatt. And in 2012, Facebook purchased the Israeli company Face.com. In each case, the new owners shut down the acquired companies’ services to outsiders. The Silicon Valley heavyweights were the de facto gatekeepers for how and whether the tech would be used.  Facebook, Google and Apple deployed facial recognition technology in what they considered to be relatively benign ways: as a security tool to unlock a smartphone, a more efficient way to tag known friends in photos and an organizational tool to categorize smartphone photos by the faces of the people in them.  In the last few years, though, the gates have been trampled by smaller, more aggressive companies, such as Clearview AI and PimEyes. What allowed the shift was the open-source nature of neural network technology, which now underpins most artificial intelligence software.  Understanding the path of facial recognition technology will help us navigate what is to come with other advancements in A.I., such as image- and text-generation tools. The power to decide what they can and can’t do will increasingly be determined by anyone with a bit of tech savvy, who may not pay heed to what the general public considers acceptable.  ‘Standing on the shoulders of giants’ How did we get to this point where someone can spot a “hot dad” on a Manhattan sidewalk and then use PimEyes to try to find out who he is and where he works? The short answer is a combination of free code shared online, a vast array of public photos, academic papers explaining how to put it all together and a cavalier attitude toward laws governing privacy.  The Clearview AI co-founder Hoan Ton-That, who led his company’s technological development, had no special background in biometrics. Before Clearview AI, he made Facebook quizzes, iPhone games and silly apps, such as “Trump Hair” to make a person in a photo appear to be coifed like the former president.  In his quest to create a groundbreaking and more lucrative app, Mr. Ton-That turned to free online resources, such as OpenFace — a “face recognition library” created by a group at Carnegie Mellon University. The code library was available on GitHub, with a warning: “Please use responsibly!”  “We do not support the use of this project in applications that violate privacy and security,” read the statement. “We are using this to help cognitively impaired users sense and understand the world around them.”  It was a noble request but completely unenforceable.  Mr. Ton-That got the OpenFace code up and running, but it wasn’t perfect, so he kept searching, wandering through the academic literature and code repositories, trying out this and that to see what worked. He was like a person walking through an orchard, sampling the fruit of decades of research, ripe for the picking and gloriously free.  “I couldn’t have done it if I had to build it from scratch,” he said, name-dropping some of the researchers who had advanced computer vision and artificial intelligence, including Geoffrey Hinton, “the godfather of A.I.” “I was standing on the shoulders of giants.”  Mr. Ton-That is still building. Clearview has developed a version of its app that works with augmented reality glasses, a more fully formed realization of the face-calling hat that the Facebook engineering team had rigged up years earlier.  The end of anonymity Image A hand holds a smartphone showing a full-figure photo of Mr. Ton-That wearing a white outfit and sunglasses, and an inset closeup of him wearing regular glasses. Mr. Ton-That demonstrating the company’s facial recognition software using a photo of himself.Credit...Seth Wenig/Associated Press  The $999 pair of augmented reality glasses, made by a company called Vuzix, connects the wearer to Clearview’s database of 30 billion faces. Clearview’s A.R. app, which can identity someone up to 10 feet away, is not yet publicly available, but the Air Force has provided funding for its possible use at military bases.  On a fall afternoon, Mr. Ton-That demonstrated the glasses for me at his spokeswoman’s apartment on the Upper West Side of Manhattan, putting them on and looking toward me.  “Ooooh, 176 photos,” he said. “Aspen Ideas Festival. Kashmir Hill,” he read from the image caption on one of the photos that came up.  Then he handed the glasses to me. I put them on. Though they looked clunky, they were lightweight and fit naturally. Mr. Ton-That said he had tried out other augmented reality glasses, but these had performed best. “They’ve got a new version coming,” he said. “And they’ll look cooler, more hipster.”  When I looked at Mr. Ton-That through the glasses, a green circle appeared around his face. I tapped a touch pad at my right temple. A message came up on a square display that only I could see on the right lens of the glasses: “Searching …”  And then the square filled with photos of him, a caption beneath each one. I scrolled through them using the touch pad. I tapped to select one that read “Clearview CEO, Hoan Ton-That;” it included a link that showed me that it had come from Clearview’s website.  I looked at his spokeswoman, searched her face, and 49 photos came up, including one with a client that she asked me not to mention. This casually revealed just how intrusive a search of someone’s face can be, even for a person whose job is to get the world to embrace this technology.  I wanted to take the glasses outside to see how they worked on people I didn’t actually know, but Mr. Ton-That said we couldn’t, both because the glasses required a Wi-Fi connection and because someone might recognize him and realize immediately what the glasses were and what they could do.  It didn’t frighten me, though I knew it should. It was clear that people who own a tool like this will inevitably have power over those who don’t. But there was a certain thrill in seeing it work, like a magic trick successfully performed.  A lost opportunity? Image Andrew Bosworth wears a gray suit and has both hands in his pockets. Andrew Bosworth, chief technology officer of Meta, said that face recognition was “hugely controversial” and that granting broad access to it was “a debate we need to have with the public.”Credit...David Paul Morris/Bloomberg  Meta has been working for years on its own augmented reality glasses. In an internal meeting in early 2021, the company’s chief technology officer, Andrew Bosworth, said he would love to equip them with facial recognition capabilities.  In a recording of the internal meeting, Mr. Bosworth said that leaving facial recognition out of augmented reality glasses was a lost opportunity for enhancing human memory. He talked about the universal experience of going to a dinner party and seeing someone you know but failing to recall their name.  “We could put a little name tag on them,” he said in the recording, with a short chuckle. “We could. We have that ability.”  But he expressed concern about the legality of offering such a tool. Buzzfeed reported on his remarks at the time. In response, Mr. Bosworth said that face recognition was “hugely controversial” and that granting broad access to it was “a debate we need to have with the public.”  While Meta’s augmented reality glasses are still in development, the company shut down the facial recognition system deployed on Facebook to tag friends in photos and deleted the more than one billion face prints it had created of its users.  It would be easy enough to turn such a system back on. When I asked a Meta spokesman about Mr. Bosworth’s comments and whether the company might put facial recognition into its augmented reality glasses one day, he would not rule out the possibility.",
           "AI in Various Domains"
          ],
          [
           "Google DeepMind AI speeds up search for disease genes",
           "AI in Various Domains"
          ],
          [
           "In U.S.-China AI contest, the race is on to deploy killer robots",
           "AI in Various Domains"
          ],
          [
           "In this new era, computers will generate smells like we generate images and sounds today. To fulfill this vision, Osmo is bringing together an accomplished, multidisciplinary team to build on its world-class research.  The Osmo team has expertise spanning machine learning, sensory neuroscience, data science, engineering, fine fragrance, analytical chemistry, and product development.   History  Before Osmo, our team was led by Alex Wiltschko at Google Research, where we used cutting-edge machine learning to build the foundations of Osmo’s map of smell.  01 Using Graph Neural Networks to achieve a major breakthrough in predicting the smell of a molecule from its structure  02 Creating new molecules no one had ever smelled before and predicting them with superhuman accuracy  03 Designing molecules that smell bad to mosquitoes (e.g. insect repellents) and are more potent than DEET in human trials  With the team’s work at Google Research validated over years, the best path for realizing the mission of digitizing smell would be through a separate startup, Osmo, dedicated to tackling the unique challenges to come.",
           "NLP and Language Models"
          ],
          [
           "The chilling rise of AI scams",
           "AI Scams"
          ],
          [
           "AI chatbot provides incorrect cancer treatment recommendations",
           "NLP and Language Models"
          ],
          [
           "I'm a Student. You Have No Idea How Much We're Using ChatGPT",
           "AI in Various Domains"
          ],
          [
           "Can the free market ensure artificial intelligence won't wipe out human workers?",
           "AI in Various Domains"
          ],
          [
           "Making ChatGPT Smarter, Today",
           "AI in Various Domains"
          ],
          [
           "An AI quadcopter has beaten human champions at drone racing",
           "AI in Various Domains"
          ],
          [
           "Study finds major shortcomings in Air Force processes to test AI technologies",
           "AI in Various Domains"
          ],
          [
           "Gannett to pause AI experiment after botched high school sports articles",
           "AI in Various Domains"
          ],
          [
           "Identifying AI-generated images with SynthID",
           "AI in Various Domains"
          ],
          [
           "Deep Quantum Graph Dreaming: Deciphering Neural Network Insights into Quantum Experiments",
           "AI in Quantum Computing"
          ],
          [
           "When you realize your favorite new song was written and performed by ... AI",
           "AI in Various Domains"
          ],
          [
           "MAJOR PUBLISHING HOUSE TO REPLACE HUNDREDS OF JOBS WITH AI",
           "AI in Various Domains"
          ],
          [
           "How Scientists Are Using AI to Talk to Animals",
           "AI in Healthcare and Communication"
          ],
          [
           "Scammers use AI to mimic voices of loved ones in distress",
           "AI Scams"
          ],
          [
           "Why AI stocks aren’t in a bubble",
           "AI in Various Domains"
          ],
          [
           "AI Helps Crack NIST-Recommended Post-Quantum Encryption Algorithm",
           "AI in Quantum Computing"
          ],
          [
           "Inside the messy ethics of making war with machines",
           "AI in Various Domains"
          ],
          [
           "Breaking a Fifth-Order Masked Implementation of CRYSTALS-Kyber by Copy-Paste",
           "AI in Quantum Computing"
          ],
          [
           "New Jersey's Ocean City taps AI gun detection in hopes of thwarting mass shootings",
           "AI in Various Domains"
          ],
          [
           "ChatGPT Calls for Scholarship, Not Panic",
           "AI in Various Domains"
          ],
          [
           "TikTok Is Letting People Shut Off Its Infamous Algorithm—and Think for Themselves",
           "AI in Various Domains"
          ],
          [
           "Google DeepMind AI tool assesses DNA mutations for harm potential",
           "AI in Various Domains"
          ],
          [
           "Unlocking the power of AI for ocean exploration",
           "AI in Various Domains"
          ],
          [
           "Analyzing the European Union AI Act: What Works, What Needs Improvement",
           "AI in Various Domains"
          ],
          [
           "ChatGPT in Banking: Balancing Its Promise and Its Risks",
           "AI in Various Domains"
          ],
          [
           "FDA-cleared artificial intelligence and machine learning-based medical devices and their 510(k) predicate networks",
           "AI in Various Domains"
          ],
          [
           "Using AI to fight climate change",
           "AI in Various Domains"
          ],
          [
           "IRS plan to use AI may affect wealthy taxpayers. Here’s how",
           "AI in Various Domains"
          ],
          [
           "31% of investors are OK with using artificial intelligence as their advisor",
           "AI in Various Domains"
          ],
          [
           "Cramer warns Wall Street’s AI craze may be peaking",
           "AI in Various Domains"
          ],
          [
           "Artificial intelligence for natural product drug discovery",
           "AI in Various Domains"
          ],
          [
           "Do Large Language Models learn world models or just surface statistics?",
           "NLP and Language Models"
          ],
          [
           "Positive Use Cases of Synthetic Media (aka Deepfakes)",
           "AI in Various Domains"
          ],
          [
           "Could AI-powered Robot “Companions” Combat Human Loneliness?",
           "AI in Various Domains"
          ],
          [
           "Inside the Senate’s Private AI Meeting With Tech’s Billionaire Elites",
           "AI in Various Domains"
          ],
          [
           "These Prisoners Are Training AI",
           "AI in Various Domains"
          ],
          [
           "Online product reviews are becoming a battlefield for modern AI",
           "AI in Various Domains"
          ],
          [
           "The Fall of Babylon Is a Warning for AI Unicorns",
           "AI in Various Domains"
          ],
          [
           "How robotaxis are dividing San Francisco",
           "AI in Various Domains"
          ],
          [
           "1 Small AI Stock Just Landed New Orders Worth Over $100 Million",
           "AI in Various Domains"
          ],
          [
           "Updates to Political content policy (September 2023)",
           "AI in Various Domains"
          ],
          [
           "Texas church experiments with AI-generated service, uses ChatGPT for worship, sermon, and original song",
           "AI in Various Domains"
          ],
          [
           "How an Iowa School District Used ChatGPT to Ban Books",
           "AI in Various Domains"
          ],
          [
           "The Age of AI has begun",
           "AI in Various Domains"
          ],
          [
           "Israel's new military AI systems select targets and plan missions 'in minutes'",
           "AI in Various Domains"
          ],
          [
           "Artificial intelligence technology behind ChatGPT was built in Iowa — with a lot of water",
           "AI in Various Domains"
          ],
          [
           "FEC moves toward potentially regulating AI deepfakes in campaign ads",
           "AI in Various Domains"
          ],
          [
           "Wearable tech for animals: An exciting new frontier",
           "AI in Various Domains"
          ],
          [
           "To Infinity and Beyond: SHOW-1 and Showrunner Agents in Multi-Agent Simulations",
           "NLP and Language Models"
          ],
          [
           "Identifying and Mitigating the Security Risks of Generative AI",
           "AI in Various Domains"
          ],
          [
           "A Multitask, Multilingual, Multimodal Evaluation of ChatGPT on Reasoning, Hallucination, and Interactivity",
           "NLP and Language Models"
          ],
          [
           "ChatGPT Beyond English: Towards a Comprehensive Evaluation of Large Language Models in Multilingual Learning",
           "NLP and Language Models"
          ],
          [
           "It Costs Just $400 to Build an AI Disinformation Machine",
           "AI in Various Domains"
          ],
          [
           "Suspected Chinese operatives using AI generated images to spread disinformation among US voters, Microsoft says",
           "AI in Various Domains"
          ],
          [
           "In Praise of Boring AI",
           "AI in Various Domains"
          ],
          [
           "Where Memory Ends and Generative AI Begins",
           "AI in Various Domains"
          ],
          [
           "PANS: A Portable Navigation Platform",
           "AI in Healthcare and Communication"
          ],
          [
           "Man beats machine at Go in human victory over AI",
           "AI in Various Domains"
          ],
          [
           "US rejects AI copyright for famous state fair-winning Midjourney art",
           "AI in Various Domains"
          ],
          [
           "AI goes to church in South Korea, sparks controversy",
           "AI in Various Domains"
          ],
          [
           "Language models can explain neurons in language models",
           "AI in Quantum Computing"
          ],
          [
           "How AI Can Manipulate Your Choices",
           "AI in Various Domains"
          ],
          [
           "Artificial Intelligence Flags Knee Osteoarthritis Using Medical Images",
           "AI in Various Domains"
          ],
          [
           "Will DALL-E the AI Artist Take My Job?",
           "AI in Various Domains"
          ],
          [
           "Microsoft files new AI-powered smart backpack patent. It can hear you and see what you see",
           "AI in Various Domains"
          ],
          [
           "Elon Musk Says Neuralink Could Slash Risk From AI As Firm Prepares For First Human Trials",
           "AI in Healthcare and Communication"
          ],
          [
           "Artificial Intelligence Chatbot Performance in Triage of Ophthalmic Conditions",
           "AI in Various Domains"
          ],
          [
           "Universal and Transferable Adversarial Attacks on Aligned Language Models",
           "NLP and Language Models"
          ],
          [
           "Universal and Transferable Adversarial Attacks on Aligned Language Models",
           "NLP and Language Models"
          ],
          [
           "Revolver by The Beatles has just been remixed and re-released — but is it scraping the bottom of the barrel?",
           "AI in Various Domains"
          ],
          [
           "'Dr. Google' meets its match in Dr. ChatGPT",
           "AI in Various Domains"
          ],
          [
           "An AI-Powered Robot That Can Train Your Dog Is Hitting The Market",
           "AI in Various Domains"
          ],
          [
           "As artificial intelligence and robotics advance, a basic income may be the only viable solution",
           "AI in Various Domains"
          ],
          [
           "How the AI revolution is different: It threatens white-collar workers",
           "AI in Various Domains"
          ],
          [
           "How artificial intelligence gave a paralyzed woman her voice back",
           "AI in Healthcare and Communication"
          ],
          [
           "Wave-U-Net: A Multi-Scale Neural Network for End-to-End Audio Source Separation",
           "AI in Quantum Computing"
          ]
         ],
         "hovertemplate": "x=%{x}<br>y=%{y}<br>title=%{customdata[0]}<br>cluster_label=%{customdata[1]}<br>cluster=%{marker.color}<extra></extra>",
         "legendgroup": "",
         "marker": {
          "color": [
           4,
           1,
           2,
           2,
           4,
           6,
           4,
           4,
           6,
           5,
           4,
           0,
           2,
           5,
           3,
           1,
           3,
           0,
           2,
           0,
           5,
           5,
           6,
           6,
           8,
           4,
           4,
           7,
           1,
           2,
           8,
           5,
           8,
           5,
           0,
           2,
           6,
           5,
           2,
           0,
           5,
           2,
           5,
           0,
           0,
           2,
           3,
           2,
           2,
           2,
           4,
           6,
           2,
           4,
           4,
           6,
           0,
           0,
           2,
           5,
           2,
           6,
           2,
           3,
           0,
           3,
           3,
           6,
           6,
           2,
           4,
           7,
           4,
           4,
           0,
           8,
           2,
           5,
           4,
           2,
           7,
           2,
           3,
           3,
           4,
           2,
           2,
           2,
           2,
           7,
           8
          ],
          "coloraxis": "coloraxis",
          "symbol": "circle"
         },
         "mode": "markers",
         "name": "",
         "orientation": "v",
         "showlegend": false,
         "type": "scatter",
         "x": [
          -0.0829327416701379,
          -0.08225344123082179,
          -0.10261330005814889,
          0.15581281707390998,
          0.08125523740760204,
          -0.02915645545952574,
          -0.06612186041153428,
          -0.11426248059516667,
          -0.04335593200793371,
          -0.07976784016259961,
          0.04558836226685409,
          0.025451758602991974,
          -0.00824489554557137,
          -0.1364423126020556,
          0.05634212800282641,
          -0.15191878649911225,
          -0.007495062302301902,
          0.2555793039779429,
          -0.11528548568997979,
          0.19453109893560033,
          -0.12434969704238363,
          -0.0749755363447383,
          -0.03385900715522346,
          0.03020107853404625,
          0.13771976149449153,
          -0.09127234093811876,
          -0.11174903040499462,
          0.0034239638702054757,
          -0.08702249058038541,
          -0.14307746406386102,
          -0.0061343499701155225,
          -0.053193976253196495,
          0.18789332521667917,
          -0.07170267543469341,
          0.18173833964324762,
          -0.006516990555042431,
          -0.02097271094583826,
          -0.05974238660645018,
          0.04692528950746276,
          0.21407550378396376,
          -0.016380604540633024,
          -0.15221304458846177,
          -0.14110066216966466,
          -0.09693183655944296,
          -0.11167875194910801,
          0.008413967166895922,
          0.2045640496296134,
          0.03999026140594601,
          -0.10108854316595545,
          -0.08849082427388535,
          -0.07626723476475245,
          -0.08472816167843619,
          -0.023683317085823073,
          -0.03849931596309499,
          -0.09345557528922392,
          0.08000317920716643,
          0.06503289881810745,
          0.21170915404015367,
          -0.1152764401977179,
          -0.08188918558728206,
          0.06186791380299711,
          -0.09405392771267079,
          -0.015383276573203432,
          0.10836817965702297,
          -0.012203990708922183,
          0.31508981105277556,
          0.35239959872727433,
          -0.05986159998948083,
          -0.09865103995858052,
          -0.05276568634839482,
          0.023715224367503025,
          0.17674624581092974,
          -0.08883811400557844,
          -0.07593654080868156,
          -0.06065612627138991,
          0.17949358869397164,
          -0.10087668894194507,
          -0.06361691269585698,
          -0.09058294875848061,
          -0.02178219687946024,
          -0.1042594406038231,
          0.09981201412997787,
          0.24357100578341268,
          0.24357100578341268,
          0.03985015456876001,
          0.21195369196361366,
          -0.09047931221915542,
          -0.12755931185434047,
          -0.15744470964563395,
          -0.03841954020043532,
          0.19678419959208793
         ],
         "xaxis": "x",
         "y": [
          0.030537899727635022,
          0.0492941740101194,
          -0.0034175469675384205,
          0.07559227242976327,
          0.09164666560205928,
          -0.008098818325701472,
          -0.007910809534220877,
          0.07649067808260596,
          0.06349888220571534,
          0.08853439140592392,
          0.11456553294843119,
          -0.009406997050545084,
          -0.14415028575004885,
          0.03055885480716313,
          -0.14901768311121627,
          0.012295163107593605,
          -0.04493445099395981,
          0.20014868335186115,
          0.029549293921217766,
          0.148602833014084,
          -0.044618887214806,
          -0.018663356386160988,
          0.1422449281433846,
          -0.20918386744109213,
          -0.11860485655434856,
          -0.07164446062986626,
          0.03565656071605662,
          -0.12816421523770488,
          -0.00799338122398593,
          0.08235699286618317,
          -0.07990969244320262,
          0.03144004047875798,
          -0.008828999288011492,
          0.024946791466753868,
          0.28422280677795864,
          0.12403134568287091,
          -0.1285687130140265,
          -0.10873084777831402,
          -0.0204156185412762,
          0.231269945533902,
          -0.12522686542016073,
          -0.07593081770647685,
          0.09753321963515936,
          0.02204850209237291,
          0.09407013764157027,
          -0.21074045403629532,
          -0.12603220022765294,
          -0.09877576983347569,
          -0.021760366328073974,
          0.11248524601567708,
          -0.02969622381877675,
          -0.02794448435725354,
          0.03697533785168431,
          0.08922221773833064,
          0.045368636352841704,
          0.1696111181880395,
          0.05659772887387224,
          0.22174533112350073,
          -0.03539291243004536,
          -0.060873014571918946,
          0.04577290560953928,
          0.03989015181828491,
          -0.016997814040660378,
          -0.02507344953484105,
          -0.07600341016441718,
          -0.024376469161500342,
          -0.012890775264395344,
          0.025483269574855142,
          0.020681326651031947,
          -0.02893493336281866,
          -0.08262088319516117,
          0.03651091413725795,
          -0.004273323426626717,
          0.08910372923572911,
          0.08445580721430886,
          -0.19297227311285647,
          -0.058651979513357544,
          -0.14775160707130247,
          0.023680459503771394,
          -0.03935081651977749,
          -0.029025548612962006,
          -0.10716525284680649,
          -0.17133118072771492,
          -0.17133118072771492,
          0.08294079135174275,
          0.07379834835683141,
          -0.05619207527284569,
          0.0656572530184286,
          0.0796042622022169,
          -0.07745307819901304,
          -0.13368878349615942
         ],
         "yaxis": "y"
        }
       ],
       "layout": {
        "coloraxis": {
         "colorbar": {
          "title": {
           "text": "cluster"
          }
         },
         "colorscale": [
          [
           0,
           "#0d0887"
          ],
          [
           0.1111111111111111,
           "#46039f"
          ],
          [
           0.2222222222222222,
           "#7201a8"
          ],
          [
           0.3333333333333333,
           "#9c179e"
          ],
          [
           0.4444444444444444,
           "#bd3786"
          ],
          [
           0.5555555555555556,
           "#d8576b"
          ],
          [
           0.6666666666666666,
           "#ed7953"
          ],
          [
           0.7777777777777778,
           "#fb9f3a"
          ],
          [
           0.8888888888888888,
           "#fdca26"
          ],
          [
           1,
           "#f0f921"
          ]
         ]
        },
        "legend": {
         "tracegroupgap": 0
        },
        "margin": {
         "t": 60
        },
        "template": {
         "data": {
          "bar": [
           {
            "error_x": {
             "color": "#2a3f5f"
            },
            "error_y": {
             "color": "#2a3f5f"
            },
            "marker": {
             "line": {
              "color": "#E5ECF6",
              "width": 0.5
             },
             "pattern": {
              "fillmode": "overlay",
              "size": 10,
              "solidity": 0.2
             }
            },
            "type": "bar"
           }
          ],
          "barpolar": [
           {
            "marker": {
             "line": {
              "color": "#E5ECF6",
              "width": 0.5
             },
             "pattern": {
              "fillmode": "overlay",
              "size": 10,
              "solidity": 0.2
             }
            },
            "type": "barpolar"
           }
          ],
          "carpet": [
           {
            "aaxis": {
             "endlinecolor": "#2a3f5f",
             "gridcolor": "white",
             "linecolor": "white",
             "minorgridcolor": "white",
             "startlinecolor": "#2a3f5f"
            },
            "baxis": {
             "endlinecolor": "#2a3f5f",
             "gridcolor": "white",
             "linecolor": "white",
             "minorgridcolor": "white",
             "startlinecolor": "#2a3f5f"
            },
            "type": "carpet"
           }
          ],
          "choropleth": [
           {
            "colorbar": {
             "outlinewidth": 0,
             "ticks": ""
            },
            "type": "choropleth"
           }
          ],
          "contour": [
           {
            "colorbar": {
             "outlinewidth": 0,
             "ticks": ""
            },
            "colorscale": [
             [
              0,
              "#0d0887"
             ],
             [
              0.1111111111111111,
              "#46039f"
             ],
             [
              0.2222222222222222,
              "#7201a8"
             ],
             [
              0.3333333333333333,
              "#9c179e"
             ],
             [
              0.4444444444444444,
              "#bd3786"
             ],
             [
              0.5555555555555556,
              "#d8576b"
             ],
             [
              0.6666666666666666,
              "#ed7953"
             ],
             [
              0.7777777777777778,
              "#fb9f3a"
             ],
             [
              0.8888888888888888,
              "#fdca26"
             ],
             [
              1,
              "#f0f921"
             ]
            ],
            "type": "contour"
           }
          ],
          "contourcarpet": [
           {
            "colorbar": {
             "outlinewidth": 0,
             "ticks": ""
            },
            "type": "contourcarpet"
           }
          ],
          "heatmap": [
           {
            "colorbar": {
             "outlinewidth": 0,
             "ticks": ""
            },
            "colorscale": [
             [
              0,
              "#0d0887"
             ],
             [
              0.1111111111111111,
              "#46039f"
             ],
             [
              0.2222222222222222,
              "#7201a8"
             ],
             [
              0.3333333333333333,
              "#9c179e"
             ],
             [
              0.4444444444444444,
              "#bd3786"
             ],
             [
              0.5555555555555556,
              "#d8576b"
             ],
             [
              0.6666666666666666,
              "#ed7953"
             ],
             [
              0.7777777777777778,
              "#fb9f3a"
             ],
             [
              0.8888888888888888,
              "#fdca26"
             ],
             [
              1,
              "#f0f921"
             ]
            ],
            "type": "heatmap"
           }
          ],
          "heatmapgl": [
           {
            "colorbar": {
             "outlinewidth": 0,
             "ticks": ""
            },
            "colorscale": [
             [
              0,
              "#0d0887"
             ],
             [
              0.1111111111111111,
              "#46039f"
             ],
             [
              0.2222222222222222,
              "#7201a8"
             ],
             [
              0.3333333333333333,
              "#9c179e"
             ],
             [
              0.4444444444444444,
              "#bd3786"
             ],
             [
              0.5555555555555556,
              "#d8576b"
             ],
             [
              0.6666666666666666,
              "#ed7953"
             ],
             [
              0.7777777777777778,
              "#fb9f3a"
             ],
             [
              0.8888888888888888,
              "#fdca26"
             ],
             [
              1,
              "#f0f921"
             ]
            ],
            "type": "heatmapgl"
           }
          ],
          "histogram": [
           {
            "marker": {
             "pattern": {
              "fillmode": "overlay",
              "size": 10,
              "solidity": 0.2
             }
            },
            "type": "histogram"
           }
          ],
          "histogram2d": [
           {
            "colorbar": {
             "outlinewidth": 0,
             "ticks": ""
            },
            "colorscale": [
             [
              0,
              "#0d0887"
             ],
             [
              0.1111111111111111,
              "#46039f"
             ],
             [
              0.2222222222222222,
              "#7201a8"
             ],
             [
              0.3333333333333333,
              "#9c179e"
             ],
             [
              0.4444444444444444,
              "#bd3786"
             ],
             [
              0.5555555555555556,
              "#d8576b"
             ],
             [
              0.6666666666666666,
              "#ed7953"
             ],
             [
              0.7777777777777778,
              "#fb9f3a"
             ],
             [
              0.8888888888888888,
              "#fdca26"
             ],
             [
              1,
              "#f0f921"
             ]
            ],
            "type": "histogram2d"
           }
          ],
          "histogram2dcontour": [
           {
            "colorbar": {
             "outlinewidth": 0,
             "ticks": ""
            },
            "colorscale": [
             [
              0,
              "#0d0887"
             ],
             [
              0.1111111111111111,
              "#46039f"
             ],
             [
              0.2222222222222222,
              "#7201a8"
             ],
             [
              0.3333333333333333,
              "#9c179e"
             ],
             [
              0.4444444444444444,
              "#bd3786"
             ],
             [
              0.5555555555555556,
              "#d8576b"
             ],
             [
              0.6666666666666666,
              "#ed7953"
             ],
             [
              0.7777777777777778,
              "#fb9f3a"
             ],
             [
              0.8888888888888888,
              "#fdca26"
             ],
             [
              1,
              "#f0f921"
             ]
            ],
            "type": "histogram2dcontour"
           }
          ],
          "mesh3d": [
           {
            "colorbar": {
             "outlinewidth": 0,
             "ticks": ""
            },
            "type": "mesh3d"
           }
          ],
          "parcoords": [
           {
            "line": {
             "colorbar": {
              "outlinewidth": 0,
              "ticks": ""
             }
            },
            "type": "parcoords"
           }
          ],
          "pie": [
           {
            "automargin": true,
            "type": "pie"
           }
          ],
          "scatter": [
           {
            "fillpattern": {
             "fillmode": "overlay",
             "size": 10,
             "solidity": 0.2
            },
            "type": "scatter"
           }
          ],
          "scatter3d": [
           {
            "line": {
             "colorbar": {
              "outlinewidth": 0,
              "ticks": ""
             }
            },
            "marker": {
             "colorbar": {
              "outlinewidth": 0,
              "ticks": ""
             }
            },
            "type": "scatter3d"
           }
          ],
          "scattercarpet": [
           {
            "marker": {
             "colorbar": {
              "outlinewidth": 0,
              "ticks": ""
             }
            },
            "type": "scattercarpet"
           }
          ],
          "scattergeo": [
           {
            "marker": {
             "colorbar": {
              "outlinewidth": 0,
              "ticks": ""
             }
            },
            "type": "scattergeo"
           }
          ],
          "scattergl": [
           {
            "marker": {
             "colorbar": {
              "outlinewidth": 0,
              "ticks": ""
             }
            },
            "type": "scattergl"
           }
          ],
          "scattermapbox": [
           {
            "marker": {
             "colorbar": {
              "outlinewidth": 0,
              "ticks": ""
             }
            },
            "type": "scattermapbox"
           }
          ],
          "scatterpolar": [
           {
            "marker": {
             "colorbar": {
              "outlinewidth": 0,
              "ticks": ""
             }
            },
            "type": "scatterpolar"
           }
          ],
          "scatterpolargl": [
           {
            "marker": {
             "colorbar": {
              "outlinewidth": 0,
              "ticks": ""
             }
            },
            "type": "scatterpolargl"
           }
          ],
          "scatterternary": [
           {
            "marker": {
             "colorbar": {
              "outlinewidth": 0,
              "ticks": ""
             }
            },
            "type": "scatterternary"
           }
          ],
          "surface": [
           {
            "colorbar": {
             "outlinewidth": 0,
             "ticks": ""
            },
            "colorscale": [
             [
              0,
              "#0d0887"
             ],
             [
              0.1111111111111111,
              "#46039f"
             ],
             [
              0.2222222222222222,
              "#7201a8"
             ],
             [
              0.3333333333333333,
              "#9c179e"
             ],
             [
              0.4444444444444444,
              "#bd3786"
             ],
             [
              0.5555555555555556,
              "#d8576b"
             ],
             [
              0.6666666666666666,
              "#ed7953"
             ],
             [
              0.7777777777777778,
              "#fb9f3a"
             ],
             [
              0.8888888888888888,
              "#fdca26"
             ],
             [
              1,
              "#f0f921"
             ]
            ],
            "type": "surface"
           }
          ],
          "table": [
           {
            "cells": {
             "fill": {
              "color": "#EBF0F8"
             },
             "line": {
              "color": "white"
             }
            },
            "header": {
             "fill": {
              "color": "#C8D4E3"
             },
             "line": {
              "color": "white"
             }
            },
            "type": "table"
           }
          ]
         },
         "layout": {
          "annotationdefaults": {
           "arrowcolor": "#2a3f5f",
           "arrowhead": 0,
           "arrowwidth": 1
          },
          "autotypenumbers": "strict",
          "coloraxis": {
           "colorbar": {
            "outlinewidth": 0,
            "ticks": ""
           }
          },
          "colorscale": {
           "diverging": [
            [
             0,
             "#8e0152"
            ],
            [
             0.1,
             "#c51b7d"
            ],
            [
             0.2,
             "#de77ae"
            ],
            [
             0.3,
             "#f1b6da"
            ],
            [
             0.4,
             "#fde0ef"
            ],
            [
             0.5,
             "#f7f7f7"
            ],
            [
             0.6,
             "#e6f5d0"
            ],
            [
             0.7,
             "#b8e186"
            ],
            [
             0.8,
             "#7fbc41"
            ],
            [
             0.9,
             "#4d9221"
            ],
            [
             1,
             "#276419"
            ]
           ],
           "sequential": [
            [
             0,
             "#0d0887"
            ],
            [
             0.1111111111111111,
             "#46039f"
            ],
            [
             0.2222222222222222,
             "#7201a8"
            ],
            [
             0.3333333333333333,
             "#9c179e"
            ],
            [
             0.4444444444444444,
             "#bd3786"
            ],
            [
             0.5555555555555556,
             "#d8576b"
            ],
            [
             0.6666666666666666,
             "#ed7953"
            ],
            [
             0.7777777777777778,
             "#fb9f3a"
            ],
            [
             0.8888888888888888,
             "#fdca26"
            ],
            [
             1,
             "#f0f921"
            ]
           ],
           "sequentialminus": [
            [
             0,
             "#0d0887"
            ],
            [
             0.1111111111111111,
             "#46039f"
            ],
            [
             0.2222222222222222,
             "#7201a8"
            ],
            [
             0.3333333333333333,
             "#9c179e"
            ],
            [
             0.4444444444444444,
             "#bd3786"
            ],
            [
             0.5555555555555556,
             "#d8576b"
            ],
            [
             0.6666666666666666,
             "#ed7953"
            ],
            [
             0.7777777777777778,
             "#fb9f3a"
            ],
            [
             0.8888888888888888,
             "#fdca26"
            ],
            [
             1,
             "#f0f921"
            ]
           ]
          },
          "colorway": [
           "#636efa",
           "#EF553B",
           "#00cc96",
           "#ab63fa",
           "#FFA15A",
           "#19d3f3",
           "#FF6692",
           "#B6E880",
           "#FF97FF",
           "#FECB52"
          ],
          "font": {
           "color": "#2a3f5f"
          },
          "geo": {
           "bgcolor": "white",
           "lakecolor": "white",
           "landcolor": "#E5ECF6",
           "showlakes": true,
           "showland": true,
           "subunitcolor": "white"
          },
          "hoverlabel": {
           "align": "left"
          },
          "hovermode": "closest",
          "mapbox": {
           "style": "light"
          },
          "paper_bgcolor": "white",
          "plot_bgcolor": "#E5ECF6",
          "polar": {
           "angularaxis": {
            "gridcolor": "white",
            "linecolor": "white",
            "ticks": ""
           },
           "bgcolor": "#E5ECF6",
           "radialaxis": {
            "gridcolor": "white",
            "linecolor": "white",
            "ticks": ""
           }
          },
          "scene": {
           "xaxis": {
            "backgroundcolor": "#E5ECF6",
            "gridcolor": "white",
            "gridwidth": 2,
            "linecolor": "white",
            "showbackground": true,
            "ticks": "",
            "zerolinecolor": "white"
           },
           "yaxis": {
            "backgroundcolor": "#E5ECF6",
            "gridcolor": "white",
            "gridwidth": 2,
            "linecolor": "white",
            "showbackground": true,
            "ticks": "",
            "zerolinecolor": "white"
           },
           "zaxis": {
            "backgroundcolor": "#E5ECF6",
            "gridcolor": "white",
            "gridwidth": 2,
            "linecolor": "white",
            "showbackground": true,
            "ticks": "",
            "zerolinecolor": "white"
           }
          },
          "shapedefaults": {
           "line": {
            "color": "#2a3f5f"
           }
          },
          "ternary": {
           "aaxis": {
            "gridcolor": "white",
            "linecolor": "white",
            "ticks": ""
           },
           "baxis": {
            "gridcolor": "white",
            "linecolor": "white",
            "ticks": ""
           },
           "bgcolor": "#E5ECF6",
           "caxis": {
            "gridcolor": "white",
            "linecolor": "white",
            "ticks": ""
           }
          },
          "title": {
           "x": 0.05
          },
          "xaxis": {
           "automargin": true,
           "gridcolor": "white",
           "linecolor": "white",
           "ticks": "",
           "title": {
            "standoff": 15
           },
           "zerolinecolor": "white",
           "zerolinewidth": 2
          },
          "yaxis": {
           "automargin": true,
           "gridcolor": "white",
           "linecolor": "white",
           "ticks": "",
           "title": {
            "standoff": 15
           },
           "zerolinecolor": "white",
           "zerolinewidth": 2
          }
         }
        },
        "xaxis": {
         "anchor": "y",
         "domain": [
          0,
          1
         ],
         "title": {
          "text": "x"
         }
        },
        "yaxis": {
         "anchor": "x",
         "domain": [
          0,
          1
         ],
         "title": {
          "text": "y"
         }
        }
       }
      }
     },
     "metadata": {},
     "output_type": "display_data"
    }
   ],
   "source": [
    "\"\"\"\n",
    "Principal Component Analysis\n",
    "\n",
    "Not great, going to shelve.\n",
    "\"\"\"\n",
    "from sklearn.decomposition import PCA\n",
    "\n",
    "pca = PCA(n_components=2).fit(matrix)\n",
    "points = pca.transform(matrix)\n",
    "\n",
    "x = [x for x,y in points]\n",
    "y = [y for x,y in points]\n",
    "\n",
    "import plotly.express as px\n",
    "fig = px.scatter(df, x=x, y=y, hover_data=['title', 'cluster_label'], color='cluster')\n",
    "fig.show()"
   ]
  },
  {
   "cell_type": "code",
   "execution_count": 16,
   "id": "e83ee565",
   "metadata": {},
   "outputs": [
    {
     "data": {
      "text/html": [
       "<div>\n",
       "<style scoped>\n",
       "    .dataframe tbody tr th:only-of-type {\n",
       "        vertical-align: middle;\n",
       "    }\n",
       "\n",
       "    .dataframe tbody tr th {\n",
       "        vertical-align: top;\n",
       "    }\n",
       "\n",
       "    .dataframe thead th {\n",
       "        text-align: right;\n",
       "    }\n",
       "</style>\n",
       "<table border=\"1\" class=\"dataframe\">\n",
       "  <thead>\n",
       "    <tr style=\"text-align: right;\">\n",
       "      <th></th>\n",
       "      <th>Unnamed: 0</th>\n",
       "      <th>url</th>\n",
       "      <th>title</th>\n",
       "      <th>text</th>\n",
       "      <th>title_embedding</th>\n",
       "      <th>text_embedding</th>\n",
       "      <th>cluster</th>\n",
       "      <th>cluster_label</th>\n",
       "      <th>cluster_info</th>\n",
       "      <th>cluster_desc</th>\n",
       "    </tr>\n",
       "  </thead>\n",
       "  <tbody>\n",
       "    <tr>\n",
       "      <th>0</th>\n",
       "      <td>0</td>\n",
       "      <td>https://sifted.eu/articles/ai-girlfriends</td>\n",
       "      <td>This AI girlfriend startup is making $100k a m...</td>\n",
       "      <td>t was never going to take long for some dudes ...</td>\n",
       "      <td>[-0.0028731601778417826, -0.019839510321617126...</td>\n",
       "      <td>[-0.017523154616355896, -0.018694087862968445,...</td>\n",
       "      <td>4</td>\n",
       "      <td>AI in Various Domains</td>\n",
       "      <td>{'label': 'AI in Various Domains', 'desc': 'Th...</td>\n",
       "      <td>These articles discuss various applications of...</td>\n",
       "    </tr>\n",
       "    <tr>\n",
       "      <th>1</th>\n",
       "      <td>1</td>\n",
       "      <td>https://www.cbsnews.com/news/scammers-ai-mimic...</td>\n",
       "      <td>CBS MORNINGS  Scammers use AI to mimic voices...</td>\n",
       "      <td>Artificial intelligence is making phone scams ...</td>\n",
       "      <td>[-0.030796028673648834, -0.015690550208091736,...</td>\n",
       "      <td>[-0.015029343776404858, -0.0202591922134161, 0...</td>\n",
       "      <td>1</td>\n",
       "      <td>AI Scams</td>\n",
       "      <td>{'label': 'AI Scams', 'desc': 'These articles ...</td>\n",
       "      <td>These articles discuss the use of artificial i...</td>\n",
       "    </tr>\n",
       "    <tr>\n",
       "      <th>2</th>\n",
       "      <td>2</td>\n",
       "      <td>https://www.apa.org/monitor/2023/07/psychology...</td>\n",
       "      <td>AI is changing every aspect of psychology. Her...</td>\n",
       "      <td>In psychology practice, artificial intelligenc...</td>\n",
       "      <td>[-0.015206217765808105, -0.005227542482316494,...</td>\n",
       "      <td>[-0.017583206295967102, -0.005311730317771435,...</td>\n",
       "      <td>2</td>\n",
       "      <td>AI in Various Domains</td>\n",
       "      <td>{'label': 'AI in Various Domains', 'desc': 'Th...</td>\n",
       "      <td>These articles cover a wide range of topics re...</td>\n",
       "    </tr>\n",
       "    <tr>\n",
       "      <th>3</th>\n",
       "      <td>3</td>\n",
       "      <td>https://proceedings.mlr.press/v81/buolamwini18...</td>\n",
       "      <td>Gender Shades: Intersectional Accuracy Dispari...</td>\n",
       "      <td>Abstract Recent studies demonstrate that machi...</td>\n",
       "      <td>[-0.019793981686234474, -0.009373592212796211,...</td>\n",
       "      <td>[-0.018454188480973244, 0.011170001700520515, ...</td>\n",
       "      <td>2</td>\n",
       "      <td>AI in Various Domains</td>\n",
       "      <td>{'label': 'AI in Various Domains', 'desc': 'Th...</td>\n",
       "      <td>These articles cover a wide range of topics re...</td>\n",
       "    </tr>\n",
       "    <tr>\n",
       "      <th>4</th>\n",
       "      <td>4</td>\n",
       "      <td>https://www.reddit.com/r/wallstreetbets/commen...</td>\n",
       "      <td>Reddit Poker Bot</td>\n",
       "      <td>I once won first place in my universities Poke...</td>\n",
       "      <td>[-0.03661308437585831, -0.018306542187929153, ...</td>\n",
       "      <td>[-0.025366466492414474, -0.02858307957649231, ...</td>\n",
       "      <td>4</td>\n",
       "      <td>AI in Various Domains</td>\n",
       "      <td>{'label': 'AI in Various Domains', 'desc': 'Th...</td>\n",
       "      <td>These articles discuss various applications of...</td>\n",
       "    </tr>\n",
       "    <tr>\n",
       "      <th>...</th>\n",
       "      <td>...</td>\n",
       "      <td>...</td>\n",
       "      <td>...</td>\n",
       "      <td>...</td>\n",
       "      <td>...</td>\n",
       "      <td>...</td>\n",
       "      <td>...</td>\n",
       "      <td>...</td>\n",
       "      <td>...</td>\n",
       "      <td>...</td>\n",
       "    </tr>\n",
       "    <tr>\n",
       "      <th>86</th>\n",
       "      <td>91</td>\n",
       "      <td>https://thechainsaw.com/business/ai-for-dogs-b...</td>\n",
       "      <td>An AI-Powered Robot That Can Train Your Dog Is...</td>\n",
       "      <td>AI is helping us in so many new ways these day...</td>\n",
       "      <td>[-0.020360102877020836, -0.03877991810441017, ...</td>\n",
       "      <td>[-0.029384786263108253, -0.02715705893933773, ...</td>\n",
       "      <td>2</td>\n",
       "      <td>AI in Various Domains</td>\n",
       "      <td>{'label': 'AI in Various Domains', 'desc': 'Th...</td>\n",
       "      <td>These articles cover a wide range of topics re...</td>\n",
       "    </tr>\n",
       "    <tr>\n",
       "      <th>87</th>\n",
       "      <td>92</td>\n",
       "      <td>https://www.jstor.org/stable/pdf/j.ctt21kk256....</td>\n",
       "      <td>As artificial intelligence and robotics advanc...</td>\n",
       "      <td>As artificial intelligence and robotics  advan...</td>\n",
       "      <td>[-0.010616644285619259, -0.030266234651207924,...</td>\n",
       "      <td>[-0.014213819988071918, -0.041092343628406525,...</td>\n",
       "      <td>2</td>\n",
       "      <td>AI in Various Domains</td>\n",
       "      <td>{'label': 'AI in Various Domains', 'desc': 'Th...</td>\n",
       "      <td>These articles cover a wide range of topics re...</td>\n",
       "    </tr>\n",
       "    <tr>\n",
       "      <th>88</th>\n",
       "      <td>93</td>\n",
       "      <td>https://www.cbsnews.com/news/what-is-generativ...</td>\n",
       "      <td>How the AI revolution is different: It threate...</td>\n",
       "      <td>The emergence of artificial intelligence like ...</td>\n",
       "      <td>[-0.012860015034675598, -0.03344012424349785, ...</td>\n",
       "      <td>[-0.0036577056162059307, -0.033163197338581085...</td>\n",
       "      <td>2</td>\n",
       "      <td>AI in Various Domains</td>\n",
       "      <td>{'label': 'AI in Various Domains', 'desc': 'Th...</td>\n",
       "      <td>These articles cover a wide range of topics re...</td>\n",
       "    </tr>\n",
       "    <tr>\n",
       "      <th>89</th>\n",
       "      <td>94</td>\n",
       "      <td>https://www.sciencedaily.com/releases/2023/08/...</td>\n",
       "      <td>How artificial intelligence gave a paralyzed w...</td>\n",
       "      <td>Researchers at UC San Francisco and UC Berkele...</td>\n",
       "      <td>[-0.009009262546896935, -0.010435618460178375,...</td>\n",
       "      <td>[-0.037005841732025146, -0.007926017045974731,...</td>\n",
       "      <td>7</td>\n",
       "      <td>AI in Healthcare and Communication</td>\n",
       "      <td>{'label': 'AI in Healthcare and Communication'...</td>\n",
       "      <td>These articles discuss various applications of...</td>\n",
       "    </tr>\n",
       "    <tr>\n",
       "      <th>90</th>\n",
       "      <td>95</td>\n",
       "      <td>https://paperswithcode.com/paper/wave-u-net-a-...</td>\n",
       "      <td>Wave-U-Net: A Multi-Scale Neural Network for E...</td>\n",
       "      <td>Models for audio source separation usually ope...</td>\n",
       "      <td>[-0.006317958701401949, -0.012063724920153618,...</td>\n",
       "      <td>[0.008825019933283329, -0.009374886751174927, ...</td>\n",
       "      <td>8</td>\n",
       "      <td>AI in Quantum Computing</td>\n",
       "      <td>{'label': 'AI in Quantum Computing', 'desc': '...</td>\n",
       "      <td>This group of articles explores different appl...</td>\n",
       "    </tr>\n",
       "  </tbody>\n",
       "</table>\n",
       "<p>91 rows × 10 columns</p>\n",
       "</div>"
      ],
      "text/plain": [
       "    Unnamed: 0                                                url  \\\n",
       "0            0          https://sifted.eu/articles/ai-girlfriends   \n",
       "1            1  https://www.cbsnews.com/news/scammers-ai-mimic...   \n",
       "2            2  https://www.apa.org/monitor/2023/07/psychology...   \n",
       "3            3  https://proceedings.mlr.press/v81/buolamwini18...   \n",
       "4            4  https://www.reddit.com/r/wallstreetbets/commen...   \n",
       "..         ...                                                ...   \n",
       "86          91  https://thechainsaw.com/business/ai-for-dogs-b...   \n",
       "87          92  https://www.jstor.org/stable/pdf/j.ctt21kk256....   \n",
       "88          93  https://www.cbsnews.com/news/what-is-generativ...   \n",
       "89          94  https://www.sciencedaily.com/releases/2023/08/...   \n",
       "90          95  https://paperswithcode.com/paper/wave-u-net-a-...   \n",
       "\n",
       "                                                title  \\\n",
       "0   This AI girlfriend startup is making $100k a m...   \n",
       "1    CBS MORNINGS  Scammers use AI to mimic voices...   \n",
       "2   AI is changing every aspect of psychology. Her...   \n",
       "3   Gender Shades: Intersectional Accuracy Dispari...   \n",
       "4                                    Reddit Poker Bot   \n",
       "..                                                ...   \n",
       "86  An AI-Powered Robot That Can Train Your Dog Is...   \n",
       "87  As artificial intelligence and robotics advanc...   \n",
       "88  How the AI revolution is different: It threate...   \n",
       "89  How artificial intelligence gave a paralyzed w...   \n",
       "90  Wave-U-Net: A Multi-Scale Neural Network for E...   \n",
       "\n",
       "                                                 text  \\\n",
       "0   t was never going to take long for some dudes ...   \n",
       "1   Artificial intelligence is making phone scams ...   \n",
       "2   In psychology practice, artificial intelligenc...   \n",
       "3   Abstract Recent studies demonstrate that machi...   \n",
       "4   I once won first place in my universities Poke...   \n",
       "..                                                ...   \n",
       "86  AI is helping us in so many new ways these day...   \n",
       "87  As artificial intelligence and robotics  advan...   \n",
       "88  The emergence of artificial intelligence like ...   \n",
       "89  Researchers at UC San Francisco and UC Berkele...   \n",
       "90  Models for audio source separation usually ope...   \n",
       "\n",
       "                                      title_embedding  \\\n",
       "0   [-0.0028731601778417826, -0.019839510321617126...   \n",
       "1   [-0.030796028673648834, -0.015690550208091736,...   \n",
       "2   [-0.015206217765808105, -0.005227542482316494,...   \n",
       "3   [-0.019793981686234474, -0.009373592212796211,...   \n",
       "4   [-0.03661308437585831, -0.018306542187929153, ...   \n",
       "..                                                ...   \n",
       "86  [-0.020360102877020836, -0.03877991810441017, ...   \n",
       "87  [-0.010616644285619259, -0.030266234651207924,...   \n",
       "88  [-0.012860015034675598, -0.03344012424349785, ...   \n",
       "89  [-0.009009262546896935, -0.010435618460178375,...   \n",
       "90  [-0.006317958701401949, -0.012063724920153618,...   \n",
       "\n",
       "                                       text_embedding  cluster  \\\n",
       "0   [-0.017523154616355896, -0.018694087862968445,...        4   \n",
       "1   [-0.015029343776404858, -0.0202591922134161, 0...        1   \n",
       "2   [-0.017583206295967102, -0.005311730317771435,...        2   \n",
       "3   [-0.018454188480973244, 0.011170001700520515, ...        2   \n",
       "4   [-0.025366466492414474, -0.02858307957649231, ...        4   \n",
       "..                                                ...      ...   \n",
       "86  [-0.029384786263108253, -0.02715705893933773, ...        2   \n",
       "87  [-0.014213819988071918, -0.041092343628406525,...        2   \n",
       "88  [-0.0036577056162059307, -0.033163197338581085...        2   \n",
       "89  [-0.037005841732025146, -0.007926017045974731,...        7   \n",
       "90  [0.008825019933283329, -0.009374886751174927, ...        8   \n",
       "\n",
       "                         cluster_label  \\\n",
       "0                AI in Various Domains   \n",
       "1                             AI Scams   \n",
       "2                AI in Various Domains   \n",
       "3                AI in Various Domains   \n",
       "4                AI in Various Domains   \n",
       "..                                 ...   \n",
       "86               AI in Various Domains   \n",
       "87               AI in Various Domains   \n",
       "88               AI in Various Domains   \n",
       "89  AI in Healthcare and Communication   \n",
       "90             AI in Quantum Computing   \n",
       "\n",
       "                                         cluster_info  \\\n",
       "0   {'label': 'AI in Various Domains', 'desc': 'Th...   \n",
       "1   {'label': 'AI Scams', 'desc': 'These articles ...   \n",
       "2   {'label': 'AI in Various Domains', 'desc': 'Th...   \n",
       "3   {'label': 'AI in Various Domains', 'desc': 'Th...   \n",
       "4   {'label': 'AI in Various Domains', 'desc': 'Th...   \n",
       "..                                                ...   \n",
       "86  {'label': 'AI in Various Domains', 'desc': 'Th...   \n",
       "87  {'label': 'AI in Various Domains', 'desc': 'Th...   \n",
       "88  {'label': 'AI in Various Domains', 'desc': 'Th...   \n",
       "89  {'label': 'AI in Healthcare and Communication'...   \n",
       "90  {'label': 'AI in Quantum Computing', 'desc': '...   \n",
       "\n",
       "                                         cluster_desc  \n",
       "0   These articles discuss various applications of...  \n",
       "1   These articles discuss the use of artificial i...  \n",
       "2   These articles cover a wide range of topics re...  \n",
       "3   These articles cover a wide range of topics re...  \n",
       "4   These articles discuss various applications of...  \n",
       "..                                                ...  \n",
       "86  These articles cover a wide range of topics re...  \n",
       "87  These articles cover a wide range of topics re...  \n",
       "88  These articles cover a wide range of topics re...  \n",
       "89  These articles discuss various applications of...  \n",
       "90  This group of articles explores different appl...  \n",
       "\n",
       "[91 rows x 10 columns]"
      ]
     },
     "execution_count": 16,
     "metadata": {},
     "output_type": "execute_result"
    }
   ],
   "source": [
    "df"
   ]
  },
  {
   "cell_type": "code",
   "execution_count": 22,
   "id": "d1bbfd61",
   "metadata": {},
   "outputs": [
    {
     "data": {
      "text/plain": [
       "0     This AI girlfriend startup is making $100k a m...\n",
       "1      CBS MORNINGS  Scammers use AI to mimic voices...\n",
       "2     AI is changing every aspect of psychology. Her...\n",
       "3     Gender Shades: Intersectional Accuracy Dispari...\n",
       "4                                      Reddit Poker Bot\n",
       "                            ...                        \n",
       "86    An AI-Powered Robot That Can Train Your Dog Is...\n",
       "87    As artificial intelligence and robotics advanc...\n",
       "88    How the AI revolution is different: It threate...\n",
       "89    How artificial intelligence gave a paralyzed w...\n",
       "90    Wave-U-Net: A Multi-Scale Neural Network for E...\n",
       "Name: title, Length: 91, dtype: object"
      ]
     },
     "execution_count": 22,
     "metadata": {},
     "output_type": "execute_result"
    }
   ],
   "source": [
    "df[df['title'] == '']"
   ]
  },
  {
   "cell_type": "code",
   "execution_count": null,
   "id": "b9e81f3f",
   "metadata": {},
   "outputs": [
    {
     "data": {
      "application/vnd.jupyter.widget-view+json": {
       "model_id": "cef0ef0eb3a64efc8bdfe12907d4fdd4",
       "version_major": 2,
       "version_minor": 0
      },
      "text/plain": [
       "FigureWidget({\n",
       "    'data': [{'marker': {'color': [#a3a7e4, #a3a7e4, #a3a7e4, #a3a7e4, #a3a7e4,\n",
       "                                   #a3a7e4, #a3a7e4, #a3a7e4, #a3a7e4, #a3a7e4,\n",
       "                                   #a3a7e4, #a3a7e4, #a3a7e4, #a3a7e4, #a3a7e4,\n",
       "                                   #a3a7e4, #a3a7e4, #a3a7e4, #a3a7e4, #a3a7e4,\n",
       "                                   #a3a7e4, #a3a7e4, #a3a7e4, #a3a7e4, #a3a7e4,\n",
       "                                   #a3a7e4, #a3a7e4, #a3a7e4, #a3a7e4, #a3a7e4,\n",
       "                                   #a3a7e4, #a3a7e4, #a3a7e4, #a3a7e4, #a3a7e4,\n",
       "                                   #a3a7e4, #a3a7e4, #a3a7e4, #a3a7e4, #a3a7e4,\n",
       "                                   #a3a7e4, #a3a7e4, #a3a7e4, #a3a7e4, #a3a7e4,\n",
       "                                   #a3a7e4, #a3a7e4, #a3a7e4, #a3a7e4, #a3a7e4,\n",
       "                                   #a3a7e4, #a3a7e4, #a3a7e4, #a3a7e4, #a3a7e4,\n",
       "                                   #a3a7e4, #a3a7e4, #a3a7e4, #a3a7e4, #a3a7e4,\n",
       "                                   #a3a7e4, #a3a7e4, #a3a7e4, #a3a7e4, #a3a7e4,\n",
       "                                   #a3a7e4, #a3a7e4, #a3a7e4, #a3a7e4, #a3a7e4,\n",
       "                                   #a3a7e4, #a3a7e4, #a3a7e4, #a3a7e4, #a3a7e4,\n",
       "                                   #a3a7e4, #a3a7e4, #a3a7e4, #a3a7e4, #a3a7e4,\n",
       "                                   #a3a7e4, #a3a7e4, #a3a7e4, #a3a7e4, #a3a7e4,\n",
       "                                   #a3a7e4, #a3a7e4, #a3a7e4, #a3a7e4, #a3a7e4,\n",
       "                                   #a3a7e4, #a3a7e4, #a3a7e4, #a3a7e4, #a3a7e4,\n",
       "                                   #a3a7e4, #a3a7e4, #a3a7e4, #a3a7e4, #a3a7e4],\n",
       "                         'size': [10, 10, 10, 10, 10, 10, 10, 10, 10, 10, 10, 10,\n",
       "                                  10, 10, 10, 10, 10, 10, 10, 10, 10, 10, 10, 10,\n",
       "                                  10, 10, 10, 10, 10, 10, 10, 10, 10, 10, 10, 10,\n",
       "                                  10, 10, 10, 10, 10, 10, 10, 10, 10, 10, 10, 10,\n",
       "                                  10, 10, 10, 10, 10, 10, 10, 10, 10, 10, 10, 10,\n",
       "                                  10, 10, 10, 10, 10, 10, 10, 10, 10, 10, 10, 10,\n",
       "                                  10, 10, 10, 10, 10, 10, 10, 10, 10, 10, 10, 10,\n",
       "                                  10, 10, 10, 10, 10, 10, 10, 10, 10, 10, 10, 10,\n",
       "                                  10, 10, 10, 10]},\n",
       "              'mode': 'markers',\n",
       "              'type': 'scatter',\n",
       "              'uid': '9eebee55-3714-4d91-a763-46a9318031d4',\n",
       "              'x': array([4.17022005e-01, 7.20324493e-01, 1.14374817e-04, 3.02332573e-01,\n",
       "                          1.46755891e-01, 9.23385948e-02, 1.86260211e-01, 3.45560727e-01,\n",
       "                          3.96767474e-01, 5.38816734e-01, 4.19194514e-01, 6.85219500e-01,\n",
       "                          2.04452250e-01, 8.78117436e-01, 2.73875932e-02, 6.70467510e-01,\n",
       "                          4.17304802e-01, 5.58689828e-01, 1.40386939e-01, 1.98101489e-01,\n",
       "                          8.00744569e-01, 9.68261576e-01, 3.13424178e-01, 6.92322616e-01,\n",
       "                          8.76389152e-01, 8.94606664e-01, 8.50442114e-02, 3.90547832e-02,\n",
       "                          1.69830420e-01, 8.78142503e-01, 9.83468338e-02, 4.21107625e-01,\n",
       "                          9.57889530e-01, 5.33165285e-01, 6.91877114e-01, 3.15515631e-01,\n",
       "                          6.86500928e-01, 8.34625672e-01, 1.82882773e-02, 7.50144315e-01,\n",
       "                          9.88861089e-01, 7.48165654e-01, 2.80443992e-01, 7.89279328e-01,\n",
       "                          1.03226007e-01, 4.47893526e-01, 9.08595503e-01, 2.93614148e-01,\n",
       "                          2.87775339e-01, 1.30028572e-01, 1.93669579e-02, 6.78835533e-01,\n",
       "                          2.11628116e-01, 2.65546659e-01, 4.91573159e-01, 5.33625451e-02,\n",
       "                          5.74117605e-01, 1.46728575e-01, 5.89305537e-01, 6.99758360e-01,\n",
       "                          1.02334429e-01, 4.14055988e-01, 6.94400158e-01, 4.14179270e-01,\n",
       "                          4.99534589e-02, 5.35896406e-01, 6.63794645e-01, 5.14889112e-01,\n",
       "                          9.44594756e-01, 5.86555041e-01, 9.03401915e-01, 1.37474704e-01,\n",
       "                          1.39276347e-01, 8.07391289e-01, 3.97676837e-01, 1.65354197e-01,\n",
       "                          9.27508580e-01, 3.47765860e-01, 7.50812103e-01, 7.25997985e-01,\n",
       "                          8.83306091e-01, 6.23672207e-01, 7.50942434e-01, 3.48898342e-01,\n",
       "                          2.69927892e-01, 8.95886218e-01, 4.28091190e-01, 9.64840047e-01,\n",
       "                          6.63441498e-01, 6.21695720e-01, 1.14745973e-01, 9.49489259e-01,\n",
       "                          4.49912133e-01, 5.78389614e-01, 4.08136803e-01, 2.37026980e-01,\n",
       "                          9.03379521e-01, 5.73679487e-01, 2.87032703e-03, 6.17144914e-01]),\n",
       "              'y': array([0.3266449 , 0.5270581 , 0.8859421 , 0.35726976, 0.90853515, 0.62336012,\n",
       "                          0.01582124, 0.92943723, 0.69089692, 0.99732285, 0.17234051, 0.13713575,\n",
       "                          0.93259546, 0.69681816, 0.06600017, 0.75546305, 0.75387619, 0.92302454,\n",
       "                          0.71152476, 0.12427096, 0.01988013, 0.02621099, 0.02830649, 0.24621107,\n",
       "                          0.86002795, 0.53883106, 0.55282198, 0.84203089, 0.12417332, 0.27918368,\n",
       "                          0.58575927, 0.96959575, 0.56103022, 0.01864729, 0.80063267, 0.23297427,\n",
       "                          0.8071052 , 0.38786064, 0.86354185, 0.74712164, 0.55624023, 0.13645523,\n",
       "                          0.05991769, 0.12134346, 0.04455188, 0.10749413, 0.22570934, 0.71298898,\n",
       "                          0.55971698, 0.01255598, 0.07197428, 0.96727633, 0.56810046, 0.20329323,\n",
       "                          0.25232574, 0.74382585, 0.19542948, 0.58135893, 0.97001999, 0.8468288 ,\n",
       "                          0.23984776, 0.49376971, 0.61995572, 0.8289809 , 0.15679139, 0.0185762 ,\n",
       "                          0.07002214, 0.48634511, 0.60632946, 0.56885144, 0.31736241, 0.98861615,\n",
       "                          0.57974522, 0.38014117, 0.55094822, 0.74533443, 0.66923289, 0.26491956,\n",
       "                          0.06633483, 0.3700842 , 0.62971751, 0.21017401, 0.75275555, 0.06653648,\n",
       "                          0.2603151 , 0.80475456, 0.19343428, 0.63946088, 0.52467031, 0.92480797,\n",
       "                          0.26329677, 0.06596109, 0.73506596, 0.77217803, 0.90781585, 0.93197207,\n",
       "                          0.01395157, 0.23436209, 0.61677836, 0.94901632])}],\n",
       "    'layout': {'hovermode': 'closest', 'template': '...'}\n",
       "})"
      ]
     },
     "execution_count": 29,
     "metadata": {},
     "output_type": "execute_result"
    }
   ],
   "source": [
    "import plotly.graph_objects as go\n",
    "\n",
    "import numpy as np\n",
    "np.random.seed(1)\n",
    "\n",
    "x = np.random.rand(100)\n",
    "y = np.random.rand(100)\n",
    "\n",
    "f = go.FigureWidget([go.Scatter(x=x, y=y, mode='markers')])\n",
    "\n",
    "scatter = f.data[0]\n",
    "colors = ['#a3a7e4'] * 100\n",
    "scatter.marker.color = colors\n",
    "scatter.marker.size = [10] * 100\n",
    "f.layout.hovermode = 'closest'\n",
    "\n",
    "\n",
    "# create our callback function\n",
    "def update_point(trace, points, selector):\n",
    "    c = list(scatter.marker.color)\n",
    "    s = list(scatter.marker.size)\n",
    "    for i in points.point_inds:\n",
    "        c[i] = '#bae2be'\n",
    "        s[i] = 20\n",
    "        with f.batch_update():\n",
    "            scatter.marker.color = c\n",
    "            scatter.marker.size = s\n",
    "\n",
    "\n",
    "scatter.on_click(update_point)\n",
    "\n",
    "f"
   ]
  },
  {
   "cell_type": "code",
   "execution_count": null,
   "id": "a07f0558",
   "metadata": {},
   "outputs": [],
   "source": []
  }
 ],
 "metadata": {
  "kernelspec": {
   "display_name": "ai_space",
   "language": "python",
   "name": "ai_space"
  },
  "language_info": {
   "codemirror_mode": {
    "name": "ipython",
    "version": 3
   },
   "file_extension": ".py",
   "mimetype": "text/x-python",
   "name": "python",
   "nbconvert_exporter": "python",
   "pygments_lexer": "ipython3",
   "version": "3.10.13"
  }
 },
 "nbformat": 4,
 "nbformat_minor": 5
}
